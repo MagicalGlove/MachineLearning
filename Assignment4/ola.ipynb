{
 "cells": [
  {
   "cell_type": "code",
   "execution_count": 4,
   "metadata": {
    "ExecuteTime": {
     "end_time": "2024-04-26T07:38:52.737354300Z",
     "start_time": "2024-04-26T07:38:52.505135500Z"
    }
   },
   "outputs": [],
   "source": [
    "\n",
    "import os\n",
    "import pandas as pd\n",
    "from matplotlib.image import imread\n",
    "from sklearn.model_selection import train_test_split\n",
    "from tensorflow.keras.preprocessing.image import ImageDataGenerator\n",
    "from skimage.transform import resize"
   ]
  },
  {
   "cell_type": "code",
   "execution_count": 54,
   "outputs": [],
   "source": [
    "import numpy as np\n",
    "import pandas as pd\n",
    "import random as ran\n",
    "import matplotlib.pyplot as plt\n",
    "import matplotlib.image as mpimg\n",
    "import seaborn as sns\n",
    "from keras.models import Sequential\n",
    "from keras.layers import Conv2D, MaxPooling2D, Flatten, Dense, Dropout\n"
   ],
   "metadata": {
    "collapsed": false,
    "ExecuteTime": {
     "end_time": "2024-04-26T13:20:04.071376900Z",
     "start_time": "2024-04-26T13:20:03.908245500Z"
    }
   }
  },
  {
   "cell_type": "code",
   "execution_count": 30,
   "outputs": [],
   "source": [
    "dir = r\"C:\\Users\\KRP\\Programming\\School\\AiCphBusiness\\MachineLearning\\Assignment4\\CNN\\train\" + \"\\\\\""
   ],
   "metadata": {
    "collapsed": false,
    "ExecuteTime": {
     "end_time": "2024-04-26T09:03:09.195067800Z",
     "start_time": "2024-04-26T09:03:09.177701100Z"
    }
   }
  },
  {
   "cell_type": "code",
   "execution_count": 26,
   "metadata": {
    "ExecuteTime": {
     "end_time": "2024-04-26T08:45:53.507902200Z",
     "start_time": "2024-04-26T08:43:09.627062900Z"
    }
   },
   "outputs": [
    {
     "name": "stdout",
     "output_type": "stream",
     "text": [
      "<class 'pandas.core.frame.DataFrame'>\n",
      "RangeIndex: 5533 entries, 0 to 5532\n",
      "Data columns (total 4 columns):\n",
      " #   Column    Non-Null Count  Dtype \n",
      "---  ------    --------------  ----- \n",
      " 0   index     5533 non-null   int64 \n",
      " 1   filename  5533 non-null   object\n",
      " 2   label     5533 non-null   object\n",
      " 3   img       5533 non-null   object\n",
      "dtypes: int64(1), object(3)\n",
      "memory usage: 173.0+ KB\n"
     ]
    }
   ],
   "source": [
    "\n",
    "\n",
    "image_dir = os.getcwd()+\"\\\\CNN\\\\train\\\\\"\n",
    "image_dir = dir\n",
    "filenames = os.listdir(image_dir)\n",
    "labels = [x.split(\".\")[0] for x in filenames]\n",
    "img = [imread(image_dir + x) for x in filenames]\n",
    "\n",
    "data = pd.DataFrame({\"filename\": filenames, \"label\": labels, \"img\": img})\n",
    "\n",
    "for index, row in data.iterrows():\n",
    "    img = imread(image_dir + row[\"filename\"])\n",
    "    img = resize(img, (80,80))\n",
    "    data.loc[index, \"img\"] = img\n",
    "\n",
    "data = data.reset_index()\n",
    "\n",
    "data.info()"
   ]
  },
  {
   "cell_type": "code",
   "execution_count": 28,
   "metadata": {
    "ExecuteTime": {
     "end_time": "2024-04-26T09:02:27.365025200Z",
     "start_time": "2024-04-26T09:02:18.784456400Z"
    }
   },
   "outputs": [
    {
     "ename": "KeyboardInterrupt",
     "evalue": "",
     "output_type": "error",
     "traceback": [
      "\u001B[1;31m---------------------------------------------------------------------------\u001B[0m",
      "\u001B[1;31mKeyboardInterrupt\u001B[0m                         Traceback (most recent call last)",
      "Cell \u001B[1;32mIn[28], line 12\u001B[0m\n\u001B[0;32m     10\u001B[0m j \u001B[38;5;241m+\u001B[39m\u001B[38;5;241m=\u001B[39m \u001B[38;5;241m1\u001B[39m\n\u001B[0;32m     11\u001B[0m \u001B[38;5;28;01mif\u001B[39;00m(os\u001B[38;5;241m.\u001B[39mpath\u001B[38;5;241m.\u001B[39mexists(os\u001B[38;5;241m.\u001B[39mgetcwd()\u001B[38;5;241m+\u001B[39m\u001B[38;5;124m\"\u001B[39m\u001B[38;5;130;01m\\\\\u001B[39;00m\u001B[38;5;124mCNN\u001B[39m\u001B[38;5;130;01m\\\\\u001B[39;00m\u001B[38;5;124mtrain\u001B[39m\u001B[38;5;130;01m\\\\\u001B[39;00m\u001B[38;5;124m\"\u001B[39m\u001B[38;5;241m+\u001B[39mfilename) \u001B[38;5;241m==\u001B[39m \u001B[38;5;28;01mFalse\u001B[39;00m):\n\u001B[1;32m---> 12\u001B[0m     \u001B[38;5;28;01mcontinue\u001B[39;00m\n\u001B[0;32m     14\u001B[0m plt\u001B[38;5;241m.\u001B[39msubplot(\u001B[38;5;241m1\u001B[39m,\u001B[38;5;241m10\u001B[39m,i\u001B[38;5;241m+\u001B[39m\u001B[38;5;241m1\u001B[39m)    \u001B[38;5;66;03m# the number of images in the grid is 10*10 (100)\u001B[39;00m\n\u001B[0;32m     15\u001B[0m i \u001B[38;5;241m+\u001B[39m\u001B[38;5;241m=\u001B[39m \u001B[38;5;241m1\u001B[39m\n",
      "\u001B[1;31mKeyboardInterrupt\u001B[0m: "
     ]
    },
    {
     "data": {
      "text/plain": "<Figure size 2000x2000 with 0 Axes>"
     },
     "metadata": {},
     "output_type": "display_data"
    }
   ],
   "source": [
    "plt.figure(figsize=(20,20)) # specifying the overall grid size\n",
    "plt.subplots_adjust(hspace=0.4)\n",
    "\n",
    "i = 0\n",
    "j = 0 \n",
    "\n",
    "while (i < 10):\n",
    "    \n",
    "    filename =  'dog.' + str(j) + '.jpg'\n",
    "    j += 1\n",
    "    if(os.path.exists(os.getcwd()+\"\\\\CNN\\\\train\\\\\"+filename) == False):\n",
    "        continue\n",
    "\n",
    "    plt.subplot(1,10,i+1)    # the number of images in the grid is 10*10 (100)\n",
    "    i += 1\n",
    "\n",
    "    image = imread(\"CNN\\\\train\\\\\"+filename)\n",
    "    plt.imshow(image)\n",
    "    plt.title('Dog',fontsize=12)\n",
    "    plt.axis('off')\n",
    "\n",
    "plt.show()"
   ]
  },
  {
   "cell_type": "code",
   "execution_count": null,
   "metadata": {
    "ExecuteTime": {
     "end_time": "2024-04-26T09:02:09.383625400Z",
     "start_time": "2024-04-26T09:02:09.383625400Z"
    }
   },
   "outputs": [],
   "source": [
    "plt.figure(figsize=(20,20)) # specifying the overall grid size\n",
    "plt.subplots_adjust(hspace=0.4)\n",
    "\n",
    "i = 0\n",
    "j = 0 \n",
    "\n",
    "while (i < 10):\n",
    "    \n",
    "    filename =  'cat.' + str(j) + '.jpg'\n",
    "    j += 1\n",
    "    if(os.path.exists(os.getcwd()+\"\\\\CNN\\\\train\\\\\"+filename) == False):\n",
    "        continue\n",
    "\n",
    "    plt.subplot(1,10,i+1)    # the number of images in the grid is 10*10 (100)\n",
    "    i += 1\n",
    "\n",
    "    image = imread(\"CNN\\\\train\\\\\"+filename)\n",
    "    plt.imshow(image)\n",
    "    plt.title('Cat',fontsize=12)\n",
    "    plt.axis('off')\n",
    "\n",
    "plt.show()"
   ]
  },
  {
   "cell_type": "code",
   "execution_count": 46,
   "metadata": {
    "ExecuteTime": {
     "end_time": "2024-04-26T12:52:30.998841300Z",
     "start_time": "2024-04-26T12:52:14.945535800Z"
    }
   },
   "outputs": [],
   "source": [
    "train_images, test_images,train_labels, test_labels = train_test_split(\n",
    "    np.array(data[\"img\"]), \n",
    "    np.array(data[\"label\"]), \n",
    "    random_state=42, \n",
    "    test_size=0.3)\n",
    "\n",
    "train_images, test_images = train_images / 255.0, test_images / 255.0"
   ]
  },
  {
   "cell_type": "code",
   "execution_count": 49,
   "outputs": [
    {
     "name": "stdout",
     "output_type": "stream",
     "text": [
      "Found 3873 validated image filenames belonging to 2 classes.\n"
     ]
    }
   ],
   "source": [
    "train_df, test_df = train_test_split(data, test_size=0.3)\n",
    "\n",
    "train_datagen = ImageDataGenerator(\n",
    "    rescale=1./255,\n",
    "    rotation_range=40,\n",
    "    width_shift_range=0.2,\n",
    "    height_shift_range=0.2,\n",
    "    shear_range=0.2,\n",
    "    zoom_range=0.2,\n",
    "    horizontal_flip=True,\n",
    "    fill_mode='nearest'\n",
    ")\n",
    "\n",
    "# Assuming you have a directory with training images stored in 'train_directory'\n",
    "train_generator = train_datagen.flow_from_dataframe(dataframe = train_df,\n",
    "    directory=dir,\n",
    "    target_size=(64, 64),\n",
    "    x_col='filename',\n",
    "    y_col='label',\n",
    "    batch_size=32,\n",
    "    class_mode='categorical'  # or 'categorical' based on your problem\n",
    ")\n",
    "\n"
   ],
   "metadata": {
    "collapsed": false,
    "ExecuteTime": {
     "end_time": "2024-04-26T12:53:54.662967700Z",
     "start_time": "2024-04-26T12:53:54.314088900Z"
    }
   }
  },
  {
   "cell_type": "code",
   "execution_count": 50,
   "outputs": [
    {
     "name": "stdout",
     "output_type": "stream",
     "text": [
      "Found 1660 validated image filenames belonging to 2 classes.\n"
     ]
    }
   ],
   "source": [
    "test_datagen = ImageDataGenerator(rescale=1./255)\n",
    "test_generator = test_datagen.flow_from_dataframe(\n",
    "    dataframe=test_df,\n",
    "    directory=dir,\n",
    "    x_col='filename',\n",
    "    y_col='label',\n",
    "    target_size=(64, 64),\n",
    "    batch_size=32,\n",
    "    class_mode='categorical'  # or 'categorical'\n",
    ")"
   ],
   "metadata": {
    "collapsed": false,
    "ExecuteTime": {
     "end_time": "2024-04-26T12:54:27.797584100Z",
     "start_time": "2024-04-26T12:54:27.642845900Z"
    }
   }
  },
  {
   "cell_type": "code",
   "execution_count": 51,
   "outputs": [
    {
     "name": "stderr",
     "output_type": "stream",
     "text": [
      "C:\\Users\\KRP\\Programming\\School\\AiCphBusiness\\.venv\\Lib\\site-packages\\keras\\src\\layers\\convolutional\\base_conv.py:107: UserWarning: Do not pass an `input_shape`/`input_dim` argument to a layer. When using Sequential models, prefer using an `Input(shape)` object as the first layer in the model instead.\n",
      "  super().__init__(activity_regularizer=activity_regularizer, **kwargs)\n"
     ]
    },
    {
     "name": "stdout",
     "output_type": "stream",
     "text": [
      "Epoch 1/30\n"
     ]
    },
    {
     "name": "stderr",
     "output_type": "stream",
     "text": [
      "C:\\Users\\KRP\\Programming\\School\\AiCphBusiness\\.venv\\Lib\\site-packages\\keras\\src\\trainers\\data_adapters\\py_dataset_adapter.py:120: UserWarning: Your `PyDataset` class should call `super().__init__(**kwargs)` in its constructor. `**kwargs` can include `workers`, `use_multiprocessing`, `max_queue_size`. Do not pass these arguments to `fit()`, as they will be ignored.\n",
      "  self._warn_if_super_not_called()\n"
     ]
    },
    {
     "name": "stdout",
     "output_type": "stream",
     "text": [
      "\u001B[1m122/122\u001B[0m \u001B[32m━━━━━━━━━━━━━━━━━━━━\u001B[0m\u001B[37m\u001B[0m \u001B[1m50s\u001B[0m 373ms/step - accuracy: 0.5007 - loss: 0.7635 - val_accuracy: 0.5211 - val_loss: 0.6922\n",
      "Epoch 2/30\n",
      "\u001B[1m122/122\u001B[0m \u001B[32m━━━━━━━━━━━━━━━━━━━━\u001B[0m\u001B[37m\u001B[0m \u001B[1m50s\u001B[0m 405ms/step - accuracy: 0.5382 - loss: 0.6904 - val_accuracy: 0.5608 - val_loss: 0.6877\n",
      "Epoch 3/30\n",
      "\u001B[1m122/122\u001B[0m \u001B[32m━━━━━━━━━━━━━━━━━━━━\u001B[0m\u001B[37m\u001B[0m \u001B[1m69s\u001B[0m 560ms/step - accuracy: 0.5578 - loss: 0.6873 - val_accuracy: 0.5861 - val_loss: 0.6681\n",
      "Epoch 4/30\n",
      "\u001B[1m122/122\u001B[0m \u001B[32m━━━━━━━━━━━━━━━━━━━━\u001B[0m\u001B[37m\u001B[0m \u001B[1m40s\u001B[0m 310ms/step - accuracy: 0.5569 - loss: 0.6794 - val_accuracy: 0.5693 - val_loss: 0.6843\n",
      "Epoch 5/30\n",
      "\u001B[1m122/122\u001B[0m \u001B[32m━━━━━━━━━━━━━━━━━━━━\u001B[0m\u001B[37m\u001B[0m \u001B[1m30s\u001B[0m 238ms/step - accuracy: 0.5577 - loss: 0.6837 - val_accuracy: 0.5795 - val_loss: 0.6659\n",
      "Epoch 6/30\n",
      "\u001B[1m122/122\u001B[0m \u001B[32m━━━━━━━━━━━━━━━━━━━━\u001B[0m\u001B[37m\u001B[0m \u001B[1m30s\u001B[0m 243ms/step - accuracy: 0.5794 - loss: 0.6710 - val_accuracy: 0.5729 - val_loss: 0.6811\n",
      "Epoch 7/30\n",
      "\u001B[1m122/122\u001B[0m \u001B[32m━━━━━━━━━━━━━━━━━━━━\u001B[0m\u001B[37m\u001B[0m \u001B[1m36s\u001B[0m 293ms/step - accuracy: 0.5806 - loss: 0.6668 - val_accuracy: 0.6114 - val_loss: 0.6468\n",
      "Epoch 8/30\n",
      "\u001B[1m122/122\u001B[0m \u001B[32m━━━━━━━━━━━━━━━━━━━━\u001B[0m\u001B[37m\u001B[0m \u001B[1m32s\u001B[0m 253ms/step - accuracy: 0.6093 - loss: 0.6602 - val_accuracy: 0.6422 - val_loss: 0.6423\n",
      "Epoch 9/30\n",
      "\u001B[1m122/122\u001B[0m \u001B[32m━━━━━━━━━━━━━━━━━━━━\u001B[0m\u001B[37m\u001B[0m \u001B[1m34s\u001B[0m 269ms/step - accuracy: 0.6352 - loss: 0.6547 - val_accuracy: 0.6410 - val_loss: 0.6291\n",
      "Epoch 10/30\n",
      "\u001B[1m122/122\u001B[0m \u001B[32m━━━━━━━━━━━━━━━━━━━━\u001B[0m\u001B[37m\u001B[0m \u001B[1m30s\u001B[0m 244ms/step - accuracy: 0.6285 - loss: 0.6416 - val_accuracy: 0.6452 - val_loss: 0.6236\n",
      "Epoch 11/30\n",
      "\u001B[1m122/122\u001B[0m \u001B[32m━━━━━━━━━━━━━━━━━━━━\u001B[0m\u001B[37m\u001B[0m \u001B[1m40s\u001B[0m 325ms/step - accuracy: 0.6363 - loss: 0.6356 - val_accuracy: 0.6205 - val_loss: 0.6437\n",
      "Epoch 12/30\n",
      "\u001B[1m122/122\u001B[0m \u001B[32m━━━━━━━━━━━━━━━━━━━━\u001B[0m\u001B[37m\u001B[0m \u001B[1m32s\u001B[0m 245ms/step - accuracy: 0.6203 - loss: 0.6484 - val_accuracy: 0.6482 - val_loss: 0.6285\n",
      "Epoch 13/30\n",
      "\u001B[1m122/122\u001B[0m \u001B[32m━━━━━━━━━━━━━━━━━━━━\u001B[0m\u001B[37m\u001B[0m \u001B[1m29s\u001B[0m 234ms/step - accuracy: 0.6330 - loss: 0.6380 - val_accuracy: 0.6524 - val_loss: 0.6258\n",
      "Epoch 14/30\n",
      "\u001B[1m122/122\u001B[0m \u001B[32m━━━━━━━━━━━━━━━━━━━━\u001B[0m\u001B[37m\u001B[0m \u001B[1m29s\u001B[0m 235ms/step - accuracy: 0.6588 - loss: 0.6275 - val_accuracy: 0.6765 - val_loss: 0.6153\n",
      "Epoch 15/30\n",
      "\u001B[1m122/122\u001B[0m \u001B[32m━━━━━━━━━━━━━━━━━━━━\u001B[0m\u001B[37m\u001B[0m \u001B[1m29s\u001B[0m 235ms/step - accuracy: 0.6594 - loss: 0.6189 - val_accuracy: 0.6741 - val_loss: 0.6018\n",
      "Epoch 16/30\n",
      "\u001B[1m122/122\u001B[0m \u001B[32m━━━━━━━━━━━━━━━━━━━━\u001B[0m\u001B[37m\u001B[0m \u001B[1m29s\u001B[0m 232ms/step - accuracy: 0.6625 - loss: 0.6206 - val_accuracy: 0.6681 - val_loss: 0.5840\n",
      "Epoch 17/30\n",
      "\u001B[1m122/122\u001B[0m \u001B[32m━━━━━━━━━━━━━━━━━━━━\u001B[0m\u001B[37m\u001B[0m \u001B[1m38s\u001B[0m 304ms/step - accuracy: 0.6617 - loss: 0.6263 - val_accuracy: 0.6313 - val_loss: 0.6280\n",
      "Epoch 18/30\n",
      "\u001B[1m122/122\u001B[0m \u001B[32m━━━━━━━━━━━━━━━━━━━━\u001B[0m\u001B[37m\u001B[0m \u001B[1m59s\u001B[0m 470ms/step - accuracy: 0.6711 - loss: 0.6020 - val_accuracy: 0.6795 - val_loss: 0.5955\n",
      "Epoch 19/30\n",
      "\u001B[1m122/122\u001B[0m \u001B[32m━━━━━━━━━━━━━━━━━━━━\u001B[0m\u001B[37m\u001B[0m \u001B[1m58s\u001B[0m 454ms/step - accuracy: 0.6806 - loss: 0.5894 - val_accuracy: 0.6831 - val_loss: 0.5931\n",
      "Epoch 20/30\n",
      "\u001B[1m122/122\u001B[0m \u001B[32m━━━━━━━━━━━━━━━━━━━━\u001B[0m\u001B[37m\u001B[0m \u001B[1m39s\u001B[0m 310ms/step - accuracy: 0.6847 - loss: 0.5954 - val_accuracy: 0.6825 - val_loss: 0.5876\n",
      "Epoch 21/30\n",
      "\u001B[1m122/122\u001B[0m \u001B[32m━━━━━━━━━━━━━━━━━━━━\u001B[0m\u001B[37m\u001B[0m \u001B[1m41s\u001B[0m 321ms/step - accuracy: 0.7027 - loss: 0.5794 - val_accuracy: 0.7030 - val_loss: 0.5639\n",
      "Epoch 22/30\n",
      "\u001B[1m122/122\u001B[0m \u001B[32m━━━━━━━━━━━━━━━━━━━━\u001B[0m\u001B[37m\u001B[0m \u001B[1m35s\u001B[0m 282ms/step - accuracy: 0.7049 - loss: 0.5788 - val_accuracy: 0.6994 - val_loss: 0.5965\n",
      "Epoch 23/30\n",
      "\u001B[1m122/122\u001B[0m \u001B[32m━━━━━━━━━━━━━━━━━━━━\u001B[0m\u001B[37m\u001B[0m \u001B[1m31s\u001B[0m 251ms/step - accuracy: 0.6917 - loss: 0.5750 - val_accuracy: 0.6199 - val_loss: 0.6773\n",
      "Epoch 24/30\n",
      "\u001B[1m122/122\u001B[0m \u001B[32m━━━━━━━━━━━━━━━━━━━━\u001B[0m\u001B[37m\u001B[0m \u001B[1m32s\u001B[0m 257ms/step - accuracy: 0.7039 - loss: 0.5700 - val_accuracy: 0.7169 - val_loss: 0.5622\n",
      "Epoch 25/30\n",
      "\u001B[1m122/122\u001B[0m \u001B[32m━━━━━━━━━━━━━━━━━━━━\u001B[0m\u001B[37m\u001B[0m \u001B[1m32s\u001B[0m 254ms/step - accuracy: 0.6479 - loss: 0.6256 - val_accuracy: 0.6855 - val_loss: 0.5777\n",
      "Epoch 26/30\n",
      "\u001B[1m122/122\u001B[0m \u001B[32m━━━━━━━━━━━━━━━━━━━━\u001B[0m\u001B[37m\u001B[0m \u001B[1m31s\u001B[0m 251ms/step - accuracy: 0.6759 - loss: 0.5974 - val_accuracy: 0.7030 - val_loss: 0.5808\n",
      "Epoch 27/30\n",
      "\u001B[1m122/122\u001B[0m \u001B[32m━━━━━━━━━━━━━━━━━━━━\u001B[0m\u001B[37m\u001B[0m \u001B[1m31s\u001B[0m 250ms/step - accuracy: 0.6954 - loss: 0.5753 - val_accuracy: 0.7235 - val_loss: 0.5388\n",
      "Epoch 28/30\n",
      "\u001B[1m122/122\u001B[0m \u001B[32m━━━━━━━━━━━━━━━━━━━━\u001B[0m\u001B[37m\u001B[0m \u001B[1m30s\u001B[0m 238ms/step - accuracy: 0.7137 - loss: 0.5564 - val_accuracy: 0.7355 - val_loss: 0.5393\n",
      "Epoch 29/30\n",
      "\u001B[1m122/122\u001B[0m \u001B[32m━━━━━━━━━━━━━━━━━━━━\u001B[0m\u001B[37m\u001B[0m \u001B[1m29s\u001B[0m 232ms/step - accuracy: 0.7216 - loss: 0.5553 - val_accuracy: 0.7343 - val_loss: 0.5498\n",
      "Epoch 30/30\n",
      "\u001B[1m122/122\u001B[0m \u001B[32m━━━━━━━━━━━━━━━━━━━━\u001B[0m\u001B[37m\u001B[0m \u001B[1m29s\u001B[0m 229ms/step - accuracy: 0.7314 - loss: 0.5400 - val_accuracy: 0.6723 - val_loss: 0.6306\n"
     ]
    }
   ],
   "source": [
    "\n",
    "model = Sequential([\n",
    "    Conv2D(32, (3,3), activation='relu', input_shape=(64, 64, 3)),  # Adjust input_shape based on your image dimensions\n",
    "    MaxPooling2D(2, 2),\n",
    "    Conv2D(64, (3,3), activation='relu'),\n",
    "    MaxPooling2D(2, 2),\n",
    "    # Add more layers as needed\n",
    "    Flatten(),\n",
    "    Dense(512, activation='relu'),\n",
    "    Dense(2, activation='sigmoid')  # or more units with 'softmax' for multi-class classification\n",
    "])\n",
    "\n",
    "model.compile(optimizer='adam', loss='categorical_crossentropy', metrics=['accuracy'])\n",
    "trained_model = model.fit(train_generator,validation_data = test_generator, epochs=30, lr)"
   ],
   "metadata": {
    "collapsed": false,
    "pycharm": {
     "is_executing": true
    },
    "ExecuteTime": {
     "end_time": "2024-04-26T13:13:32.956585900Z",
     "start_time": "2024-04-26T12:55:03.957437700Z"
    }
   }
  },
  {
   "cell_type": "code",
   "execution_count": 55,
   "outputs": [
    {
     "name": "stderr",
     "output_type": "stream",
     "text": [
      "C:\\Users\\KRP\\Programming\\School\\AiCphBusiness\\.venv\\Lib\\site-packages\\keras\\src\\layers\\convolutional\\base_conv.py:107: UserWarning: Do not pass an `input_shape`/`input_dim` argument to a layer. When using Sequential models, prefer using an `Input(shape)` object as the first layer in the model instead.\n",
      "  super().__init__(activity_regularizer=activity_regularizer, **kwargs)\n"
     ]
    },
    {
     "name": "stdout",
     "output_type": "stream",
     "text": [
      "Epoch 1/30\n",
      "\u001B[1m122/122\u001B[0m \u001B[32m━━━━━━━━━━━━━━━━━━━━\u001B[0m\u001B[37m\u001B[0m \u001B[1m30s\u001B[0m 214ms/step - accuracy: 0.5131 - loss: 0.7059 - val_accuracy: 0.4940 - val_loss: 0.6963\n",
      "Epoch 2/30\n",
      "\u001B[1m122/122\u001B[0m \u001B[32m━━━━━━━━━━━━━━━━━━━━\u001B[0m\u001B[37m\u001B[0m \u001B[1m32s\u001B[0m 254ms/step - accuracy: 0.5495 - loss: 0.6861 - val_accuracy: 0.5307 - val_loss: 0.6810\n",
      "Epoch 3/30\n",
      "\u001B[1m122/122\u001B[0m \u001B[32m━━━━━━━━━━━━━━━━━━━━\u001B[0m\u001B[37m\u001B[0m \u001B[1m30s\u001B[0m 236ms/step - accuracy: 0.5495 - loss: 0.6812 - val_accuracy: 0.5892 - val_loss: 0.6665\n",
      "Epoch 4/30\n",
      "\u001B[1m122/122\u001B[0m \u001B[32m━━━━━━━━━━━━━━━━━━━━\u001B[0m\u001B[37m\u001B[0m \u001B[1m27s\u001B[0m 212ms/step - accuracy: 0.5827 - loss: 0.6745 - val_accuracy: 0.6181 - val_loss: 0.6539\n",
      "Epoch 5/30\n",
      "\u001B[1m122/122\u001B[0m \u001B[32m━━━━━━━━━━━━━━━━━━━━\u001B[0m\u001B[37m\u001B[0m \u001B[1m28s\u001B[0m 220ms/step - accuracy: 0.5693 - loss: 0.6812 - val_accuracy: 0.6307 - val_loss: 0.6492\n",
      "Epoch 6/30\n",
      "\u001B[1m122/122\u001B[0m \u001B[32m━━━━━━━━━━━━━━━━━━━━\u001B[0m\u001B[37m\u001B[0m \u001B[1m29s\u001B[0m 235ms/step - accuracy: 0.5629 - loss: 0.6791 - val_accuracy: 0.5976 - val_loss: 0.6588\n",
      "Epoch 7/30\n",
      "\u001B[1m122/122\u001B[0m \u001B[32m━━━━━━━━━━━━━━━━━━━━\u001B[0m\u001B[37m\u001B[0m \u001B[1m27s\u001B[0m 212ms/step - accuracy: 0.5670 - loss: 0.6797 - val_accuracy: 0.5771 - val_loss: 0.6704\n",
      "Epoch 8/30\n",
      "\u001B[1m122/122\u001B[0m \u001B[32m━━━━━━━━━━━━━━━━━━━━\u001B[0m\u001B[37m\u001B[0m \u001B[1m27s\u001B[0m 214ms/step - accuracy: 0.5689 - loss: 0.6808 - val_accuracy: 0.5608 - val_loss: 0.6894\n",
      "Epoch 9/30\n",
      "\u001B[1m122/122\u001B[0m \u001B[32m━━━━━━━━━━━━━━━━━━━━\u001B[0m\u001B[37m\u001B[0m \u001B[1m27s\u001B[0m 215ms/step - accuracy: 0.5662 - loss: 0.6802 - val_accuracy: 0.5566 - val_loss: 0.6824\n",
      "Epoch 10/30\n",
      "\u001B[1m122/122\u001B[0m \u001B[32m━━━━━━━━━━━━━━━━━━━━\u001B[0m\u001B[37m\u001B[0m \u001B[1m27s\u001B[0m 212ms/step - accuracy: 0.5717 - loss: 0.6788 - val_accuracy: 0.5265 - val_loss: 0.6908\n",
      "Epoch 11/30\n",
      "\u001B[1m122/122\u001B[0m \u001B[32m━━━━━━━━━━━━━━━━━━━━\u001B[0m\u001B[37m\u001B[0m \u001B[1m27s\u001B[0m 213ms/step - accuracy: 0.5631 - loss: 0.6780 - val_accuracy: 0.5741 - val_loss: 0.6701\n",
      "Epoch 12/30\n",
      "\u001B[1m122/122\u001B[0m \u001B[32m━━━━━━━━━━━━━━━━━━━━\u001B[0m\u001B[37m\u001B[0m \u001B[1m27s\u001B[0m 211ms/step - accuracy: 0.5659 - loss: 0.6790 - val_accuracy: 0.5880 - val_loss: 0.6786\n",
      "Epoch 13/30\n",
      "\u001B[1m122/122\u001B[0m \u001B[32m━━━━━━━━━━━━━━━━━━━━\u001B[0m\u001B[37m\u001B[0m \u001B[1m27s\u001B[0m 212ms/step - accuracy: 0.5869 - loss: 0.6680 - val_accuracy: 0.6392 - val_loss: 0.6403\n",
      "Epoch 14/30\n",
      "\u001B[1m122/122\u001B[0m \u001B[32m━━━━━━━━━━━━━━━━━━━━\u001B[0m\u001B[37m\u001B[0m \u001B[1m26s\u001B[0m 206ms/step - accuracy: 0.6040 - loss: 0.6624 - val_accuracy: 0.6386 - val_loss: 0.6457\n",
      "Epoch 15/30\n",
      "\u001B[1m122/122\u001B[0m \u001B[32m━━━━━━━━━━━━━━━━━━━━\u001B[0m\u001B[37m\u001B[0m \u001B[1m26s\u001B[0m 209ms/step - accuracy: 0.6261 - loss: 0.6520 - val_accuracy: 0.6319 - val_loss: 0.6349\n",
      "Epoch 16/30\n",
      "\u001B[1m122/122\u001B[0m \u001B[32m━━━━━━━━━━━━━━━━━━━━\u001B[0m\u001B[37m\u001B[0m \u001B[1m26s\u001B[0m 209ms/step - accuracy: 0.6311 - loss: 0.6387 - val_accuracy: 0.6584 - val_loss: 0.6150\n",
      "Epoch 17/30\n",
      "\u001B[1m122/122\u001B[0m \u001B[32m━━━━━━━━━━━━━━━━━━━━\u001B[0m\u001B[37m\u001B[0m \u001B[1m26s\u001B[0m 209ms/step - accuracy: 0.6714 - loss: 0.6235 - val_accuracy: 0.6657 - val_loss: 0.6136\n",
      "Epoch 18/30\n",
      "\u001B[1m122/122\u001B[0m \u001B[32m━━━━━━━━━━━━━━━━━━━━\u001B[0m\u001B[37m\u001B[0m \u001B[1m27s\u001B[0m 215ms/step - accuracy: 0.6553 - loss: 0.6243 - val_accuracy: 0.6771 - val_loss: 0.5918\n",
      "Epoch 19/30\n",
      "\u001B[1m122/122\u001B[0m \u001B[32m━━━━━━━━━━━━━━━━━━━━\u001B[0m\u001B[37m\u001B[0m \u001B[1m26s\u001B[0m 211ms/step - accuracy: 0.6631 - loss: 0.6042 - val_accuracy: 0.7042 - val_loss: 0.5829\n",
      "Epoch 20/30\n",
      "\u001B[1m122/122\u001B[0m \u001B[32m━━━━━━━━━━━━━━━━━━━━\u001B[0m\u001B[37m\u001B[0m \u001B[1m28s\u001B[0m 224ms/step - accuracy: 0.6622 - loss: 0.6158 - val_accuracy: 0.6783 - val_loss: 0.6078\n",
      "Epoch 21/30\n",
      "\u001B[1m122/122\u001B[0m \u001B[32m━━━━━━━━━━━━━━━━━━━━\u001B[0m\u001B[37m\u001B[0m \u001B[1m29s\u001B[0m 232ms/step - accuracy: 0.6727 - loss: 0.6074 - val_accuracy: 0.7102 - val_loss: 0.5846\n",
      "Epoch 22/30\n",
      "\u001B[1m122/122\u001B[0m \u001B[32m━━━━━━━━━━━━━━━━━━━━\u001B[0m\u001B[37m\u001B[0m \u001B[1m31s\u001B[0m 250ms/step - accuracy: 0.6862 - loss: 0.5916 - val_accuracy: 0.7241 - val_loss: 0.5617\n",
      "Epoch 23/30\n",
      "\u001B[1m122/122\u001B[0m \u001B[32m━━━━━━━━━━━━━━━━━━━━\u001B[0m\u001B[37m\u001B[0m \u001B[1m29s\u001B[0m 225ms/step - accuracy: 0.6809 - loss: 0.5970 - val_accuracy: 0.6946 - val_loss: 0.6098\n",
      "Epoch 24/30\n",
      "\u001B[1m122/122\u001B[0m \u001B[32m━━━━━━━━━━━━━━━━━━━━\u001B[0m\u001B[37m\u001B[0m \u001B[1m28s\u001B[0m 220ms/step - accuracy: 0.6938 - loss: 0.5828 - val_accuracy: 0.6548 - val_loss: 0.6624\n",
      "Epoch 25/30\n",
      "\u001B[1m122/122\u001B[0m \u001B[32m━━━━━━━━━━━━━━━━━━━━\u001B[0m\u001B[37m\u001B[0m \u001B[1m36s\u001B[0m 290ms/step - accuracy: 0.6988 - loss: 0.5813 - val_accuracy: 0.7012 - val_loss: 0.5894\n",
      "Epoch 26/30\n",
      "\u001B[1m122/122\u001B[0m \u001B[32m━━━━━━━━━━━━━━━━━━━━\u001B[0m\u001B[37m\u001B[0m \u001B[1m32s\u001B[0m 253ms/step - accuracy: 0.6608 - loss: 0.6214 - val_accuracy: 0.7157 - val_loss: 0.5775\n",
      "Epoch 27/30\n",
      "\u001B[1m122/122\u001B[0m \u001B[32m━━━━━━━━━━━━━━━━━━━━\u001B[0m\u001B[37m\u001B[0m \u001B[1m25s\u001B[0m 197ms/step - accuracy: 0.6752 - loss: 0.5945 - val_accuracy: 0.7416 - val_loss: 0.5493\n",
      "Epoch 28/30\n",
      "\u001B[1m122/122\u001B[0m \u001B[32m━━━━━━━━━━━━━━━━━━━━\u001B[0m\u001B[37m\u001B[0m \u001B[1m35s\u001B[0m 284ms/step - accuracy: 0.7144 - loss: 0.5676 - val_accuracy: 0.6813 - val_loss: 0.6184\n",
      "Epoch 29/30\n",
      "\u001B[1m122/122\u001B[0m \u001B[32m━━━━━━━━━━━━━━━━━━━━\u001B[0m\u001B[37m\u001B[0m \u001B[1m34s\u001B[0m 269ms/step - accuracy: 0.7014 - loss: 0.5701 - val_accuracy: 0.7416 - val_loss: 0.5475\n",
      "Epoch 30/30\n",
      "\u001B[1m122/122\u001B[0m \u001B[32m━━━━━━━━━━━━━━━━━━━━\u001B[0m\u001B[37m\u001B[0m \u001B[1m34s\u001B[0m 275ms/step - accuracy: 0.7027 - loss: 0.5785 - val_accuracy: 0.7488 - val_loss: 0.5365\n"
     ]
    }
   ],
   "source": [
    "model = Sequential([\n",
    "    Conv2D(32, (3, 3), activation='relu', input_shape=(64, 64, 3)),\n",
    "    MaxPooling2D(2, 2),\n",
    "    Conv2D(64, (3, 3), activation='relu'),\n",
    "    MaxPooling2D(2, 2),\n",
    "    Conv2D(128, (3, 3), activation='relu'),  # Added a deeper layer\n",
    "    MaxPooling2D(2, 2),                     # Additional pooling layer\n",
    "    Flatten(),\n",
    "    Dropout(0.5),                           # Dropout for regularization\n",
    "    Dense(512, activation='relu'),\n",
    "    Dropout(0.5),                           # Another dropout layer before the final classification layer\n",
    "    Dense(2, activation='softmax')          # Using softmax for multi-class classification\n",
    "])\n",
    "\n",
    "model.compile(optimizer='adam', loss='categorical_crossentropy', metrics=['accuracy'])\n",
    "trained_model2 = model.fit(train_generator,validation_data = test_generator, epochs=30, learning)"
   ],
   "metadata": {
    "collapsed": false,
    "ExecuteTime": {
     "end_time": "2024-04-26T13:34:46.763055700Z",
     "start_time": "2024-04-26T13:20:25.539131500Z"
    }
   }
  },
  {
   "cell_type": "code",
   "execution_count": 57,
   "outputs": [
    {
     "data": {
      "text/plain": "<Figure size 640x480 with 1 Axes>",
      "image/png": "[encoded data removed]"
     },
     "metadata": {},
     "output_type": "display_data"
    }
   ],
   "source": [
    "plt.plot(trained_model2.history['loss'])\n",
    "plt.plot(trained_model2.history['val_loss'])\n",
    "plt.title('Model Loss')\n",
    "plt.ylabel('Loss')\n",
    "plt.xlabel('Epoch')\n",
    "plt.legend(['Train', 'Val'], loc='upper right')\n",
    "plt.show()"
   ],
   "metadata": {
    "collapsed": false,
    "ExecuteTime": {
     "end_time": "2024-04-26T13:43:42.451861400Z",
     "start_time": "2024-04-26T13:43:42.160681800Z"
    }
   }
  },
  {
   "cell_type": "code",
   "execution_count": null,
   "outputs": [],
   "source": [],
   "metadata": {
    "collapsed": false
   }
  }
 ],
 "metadata": {
  "kernelspec": {
   "display_name": "Python 3",
   "language": "python",
   "name": "python3"
  },
  "language_info": {
   "codemirror_mode": {
    "name": "ipython",
    "version": 3
   },
   "file_extension": ".py",
   "mimetype": "text/x-python",
   "name": "python",
   "nbconvert_exporter": "python",
   "pygments_lexer": "ipython3",
   "version": "3.12.1"
  }
 },
 "nbformat": 4,
 "nbformat_minor": 2
}
