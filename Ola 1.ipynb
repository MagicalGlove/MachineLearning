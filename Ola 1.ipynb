{
 "cells": [
  {
   "cell_type": "code",
   "execution_count": 1,
   "metadata": {},
   "outputs": [
    {
     "data": {
      "text/html": [
       "<div>\n",
       "<style scoped>\n",
       "    .dataframe tbody tr th:only-of-type {\n",
       "        vertical-align: middle;\n",
       "    }\n",
       "\n",
       "    .dataframe tbody tr th {\n",
       "        vertical-align: top;\n",
       "    }\n",
       "\n",
       "    .dataframe thead th {\n",
       "        text-align: right;\n",
       "    }\n",
       "</style>\n",
       "<table border=\"1\" class=\"dataframe\">\n",
       "  <thead>\n",
       "    <tr style=\"text-align: right;\">\n",
       "      <th></th>\n",
       "      <th>pickup</th>\n",
       "      <th>dropoff</th>\n",
       "      <th>passengers</th>\n",
       "      <th>distance</th>\n",
       "      <th>fare</th>\n",
       "      <th>tip</th>\n",
       "      <th>tolls</th>\n",
       "      <th>total</th>\n",
       "    </tr>\n",
       "  </thead>\n",
       "  <tbody>\n",
       "    <tr>\n",
       "      <th>count</th>\n",
       "      <td>6433</td>\n",
       "      <td>6433</td>\n",
       "      <td>6433.000000</td>\n",
       "      <td>6433.000000</td>\n",
       "      <td>6433.000000</td>\n",
       "      <td>6433.00000</td>\n",
       "      <td>6433.000000</td>\n",
       "      <td>6433.000000</td>\n",
       "    </tr>\n",
       "    <tr>\n",
       "      <th>mean</th>\n",
       "      <td>2019-03-16 08:31:28.514223616</td>\n",
       "      <td>2019-03-16 08:45:49.491217408</td>\n",
       "      <td>1.539251</td>\n",
       "      <td>3.024617</td>\n",
       "      <td>13.091073</td>\n",
       "      <td>1.97922</td>\n",
       "      <td>0.325273</td>\n",
       "      <td>18.517794</td>\n",
       "    </tr>\n",
       "    <tr>\n",
       "      <th>min</th>\n",
       "      <td>2019-02-28 23:29:03</td>\n",
       "      <td>2019-02-28 23:32:35</td>\n",
       "      <td>0.000000</td>\n",
       "      <td>0.000000</td>\n",
       "      <td>1.000000</td>\n",
       "      <td>0.00000</td>\n",
       "      <td>0.000000</td>\n",
       "      <td>1.300000</td>\n",
       "    </tr>\n",
       "    <tr>\n",
       "      <th>25%</th>\n",
       "      <td>2019-03-08 15:50:34</td>\n",
       "      <td>2019-03-08 16:12:51</td>\n",
       "      <td>1.000000</td>\n",
       "      <td>0.980000</td>\n",
       "      <td>6.500000</td>\n",
       "      <td>0.00000</td>\n",
       "      <td>0.000000</td>\n",
       "      <td>10.800000</td>\n",
       "    </tr>\n",
       "    <tr>\n",
       "      <th>50%</th>\n",
       "      <td>2019-03-15 21:46:58</td>\n",
       "      <td>2019-03-15 22:06:44</td>\n",
       "      <td>1.000000</td>\n",
       "      <td>1.640000</td>\n",
       "      <td>9.500000</td>\n",
       "      <td>1.70000</td>\n",
       "      <td>0.000000</td>\n",
       "      <td>14.160000</td>\n",
       "    </tr>\n",
       "    <tr>\n",
       "      <th>75%</th>\n",
       "      <td>2019-03-23 17:41:38</td>\n",
       "      <td>2019-03-23 17:51:56</td>\n",
       "      <td>2.000000</td>\n",
       "      <td>3.210000</td>\n",
       "      <td>15.000000</td>\n",
       "      <td>2.80000</td>\n",
       "      <td>0.000000</td>\n",
       "      <td>20.300000</td>\n",
       "    </tr>\n",
       "    <tr>\n",
       "      <th>max</th>\n",
       "      <td>2019-03-31 23:43:45</td>\n",
       "      <td>2019-04-01 00:13:58</td>\n",
       "      <td>6.000000</td>\n",
       "      <td>36.700000</td>\n",
       "      <td>150.000000</td>\n",
       "      <td>33.20000</td>\n",
       "      <td>24.020000</td>\n",
       "      <td>174.820000</td>\n",
       "    </tr>\n",
       "    <tr>\n",
       "      <th>std</th>\n",
       "      <td>NaN</td>\n",
       "      <td>NaN</td>\n",
       "      <td>1.203768</td>\n",
       "      <td>3.827867</td>\n",
       "      <td>11.551804</td>\n",
       "      <td>2.44856</td>\n",
       "      <td>1.415267</td>\n",
       "      <td>13.815570</td>\n",
       "    </tr>\n",
       "  </tbody>\n",
       "</table>\n",
       "</div>"
      ],
      "text/plain": [
       "                              pickup                        dropoff  \\\n",
       "count                           6433                           6433   \n",
       "mean   2019-03-16 08:31:28.514223616  2019-03-16 08:45:49.491217408   \n",
       "min              2019-02-28 23:29:03            2019-02-28 23:32:35   \n",
       "25%              2019-03-08 15:50:34            2019-03-08 16:12:51   \n",
       "50%              2019-03-15 21:46:58            2019-03-15 22:06:44   \n",
       "75%              2019-03-23 17:41:38            2019-03-23 17:51:56   \n",
       "max              2019-03-31 23:43:45            2019-04-01 00:13:58   \n",
       "std                              NaN                            NaN   \n",
       "\n",
       "        passengers     distance         fare         tip        tolls  \\\n",
       "count  6433.000000  6433.000000  6433.000000  6433.00000  6433.000000   \n",
       "mean      1.539251     3.024617    13.091073     1.97922     0.325273   \n",
       "min       0.000000     0.000000     1.000000     0.00000     0.000000   \n",
       "25%       1.000000     0.980000     6.500000     0.00000     0.000000   \n",
       "50%       1.000000     1.640000     9.500000     1.70000     0.000000   \n",
       "75%       2.000000     3.210000    15.000000     2.80000     0.000000   \n",
       "max       6.000000    36.700000   150.000000    33.20000    24.020000   \n",
       "std       1.203768     3.827867    11.551804     2.44856     1.415267   \n",
       "\n",
       "             total  \n",
       "count  6433.000000  \n",
       "mean     18.517794  \n",
       "min       1.300000  \n",
       "25%      10.800000  \n",
       "50%      14.160000  \n",
       "75%      20.300000  \n",
       "max     174.820000  \n",
       "std      13.815570  "
      ]
     },
     "execution_count": 1,
     "metadata": {},
     "output_type": "execute_result"
    }
   ],
   "source": [
    "import seaborn as sns;\n",
    "\n",
    "#1 Find and download a dataset\n",
    "taxiData = sns.load_dataset(\"taxis\")\n",
    "#2 Data Exploration\n",
    "taxiData.describe() "
   ]
  },
  {
   "cell_type": "markdown",
   "metadata": {},
   "source": []
  },
  {
   "cell_type": "code",
   "execution_count": 2,
   "metadata": {},
   "outputs": [
    {
     "data": {
      "text/html": [
       "<div>\n",
       "<style scoped>\n",
       "    .dataframe tbody tr th:only-of-type {\n",
       "        vertical-align: middle;\n",
       "    }\n",
       "\n",
       "    .dataframe tbody tr th {\n",
       "        vertical-align: top;\n",
       "    }\n",
       "\n",
       "    .dataframe thead th {\n",
       "        text-align: right;\n",
       "    }\n",
       "</style>\n",
       "<table border=\"1\" class=\"dataframe\">\n",
       "  <thead>\n",
       "    <tr style=\"text-align: right;\">\n",
       "      <th></th>\n",
       "      <th>pickup</th>\n",
       "      <th>dropoff</th>\n",
       "      <th>passengers</th>\n",
       "      <th>distance</th>\n",
       "      <th>fare</th>\n",
       "      <th>tip</th>\n",
       "      <th>tolls</th>\n",
       "      <th>total</th>\n",
       "      <th>color</th>\n",
       "      <th>payment</th>\n",
       "      <th>pickup_zone</th>\n",
       "      <th>dropoff_zone</th>\n",
       "      <th>pickup_borough</th>\n",
       "      <th>dropoff_borough</th>\n",
       "    </tr>\n",
       "  </thead>\n",
       "  <tbody>\n",
       "    <tr>\n",
       "      <th>0</th>\n",
       "      <td>2019-03-23 20:21:09</td>\n",
       "      <td>2019-03-23 20:27:24</td>\n",
       "      <td>1</td>\n",
       "      <td>1.60</td>\n",
       "      <td>7.0</td>\n",
       "      <td>2.15</td>\n",
       "      <td>0.0</td>\n",
       "      <td>12.95</td>\n",
       "      <td>yellow</td>\n",
       "      <td>credit card</td>\n",
       "      <td>Lenox Hill West</td>\n",
       "      <td>UN/Turtle Bay South</td>\n",
       "      <td>Manhattan</td>\n",
       "      <td>Manhattan</td>\n",
       "    </tr>\n",
       "    <tr>\n",
       "      <th>1</th>\n",
       "      <td>2019-03-04 16:11:55</td>\n",
       "      <td>2019-03-04 16:19:00</td>\n",
       "      <td>1</td>\n",
       "      <td>0.79</td>\n",
       "      <td>5.0</td>\n",
       "      <td>0.00</td>\n",
       "      <td>0.0</td>\n",
       "      <td>9.30</td>\n",
       "      <td>yellow</td>\n",
       "      <td>cash</td>\n",
       "      <td>Upper West Side South</td>\n",
       "      <td>Upper West Side South</td>\n",
       "      <td>Manhattan</td>\n",
       "      <td>Manhattan</td>\n",
       "    </tr>\n",
       "    <tr>\n",
       "      <th>2</th>\n",
       "      <td>2019-03-27 17:53:01</td>\n",
       "      <td>2019-03-27 18:00:25</td>\n",
       "      <td>1</td>\n",
       "      <td>1.37</td>\n",
       "      <td>7.5</td>\n",
       "      <td>2.36</td>\n",
       "      <td>0.0</td>\n",
       "      <td>14.16</td>\n",
       "      <td>yellow</td>\n",
       "      <td>credit card</td>\n",
       "      <td>Alphabet City</td>\n",
       "      <td>West Village</td>\n",
       "      <td>Manhattan</td>\n",
       "      <td>Manhattan</td>\n",
       "    </tr>\n",
       "    <tr>\n",
       "      <th>3</th>\n",
       "      <td>2019-03-10 01:23:59</td>\n",
       "      <td>2019-03-10 01:49:51</td>\n",
       "      <td>1</td>\n",
       "      <td>7.70</td>\n",
       "      <td>27.0</td>\n",
       "      <td>6.15</td>\n",
       "      <td>0.0</td>\n",
       "      <td>36.95</td>\n",
       "      <td>yellow</td>\n",
       "      <td>credit card</td>\n",
       "      <td>Hudson Sq</td>\n",
       "      <td>Yorkville West</td>\n",
       "      <td>Manhattan</td>\n",
       "      <td>Manhattan</td>\n",
       "    </tr>\n",
       "    <tr>\n",
       "      <th>4</th>\n",
       "      <td>2019-03-30 13:27:42</td>\n",
       "      <td>2019-03-30 13:37:14</td>\n",
       "      <td>3</td>\n",
       "      <td>2.16</td>\n",
       "      <td>9.0</td>\n",
       "      <td>1.10</td>\n",
       "      <td>0.0</td>\n",
       "      <td>13.40</td>\n",
       "      <td>yellow</td>\n",
       "      <td>credit card</td>\n",
       "      <td>Midtown East</td>\n",
       "      <td>Yorkville West</td>\n",
       "      <td>Manhattan</td>\n",
       "      <td>Manhattan</td>\n",
       "    </tr>\n",
       "  </tbody>\n",
       "</table>\n",
       "</div>"
      ],
      "text/plain": [
       "               pickup             dropoff  passengers  distance  fare   tip  \\\n",
       "0 2019-03-23 20:21:09 2019-03-23 20:27:24           1      1.60   7.0  2.15   \n",
       "1 2019-03-04 16:11:55 2019-03-04 16:19:00           1      0.79   5.0  0.00   \n",
       "2 2019-03-27 17:53:01 2019-03-27 18:00:25           1      1.37   7.5  2.36   \n",
       "3 2019-03-10 01:23:59 2019-03-10 01:49:51           1      7.70  27.0  6.15   \n",
       "4 2019-03-30 13:27:42 2019-03-30 13:37:14           3      2.16   9.0  1.10   \n",
       "\n",
       "   tolls  total   color      payment            pickup_zone  \\\n",
       "0    0.0  12.95  yellow  credit card        Lenox Hill West   \n",
       "1    0.0   9.30  yellow         cash  Upper West Side South   \n",
       "2    0.0  14.16  yellow  credit card          Alphabet City   \n",
       "3    0.0  36.95  yellow  credit card              Hudson Sq   \n",
       "4    0.0  13.40  yellow  credit card           Midtown East   \n",
       "\n",
       "            dropoff_zone pickup_borough dropoff_borough  \n",
       "0    UN/Turtle Bay South      Manhattan       Manhattan  \n",
       "1  Upper West Side South      Manhattan       Manhattan  \n",
       "2           West Village      Manhattan       Manhattan  \n",
       "3         Yorkville West      Manhattan       Manhattan  \n",
       "4         Yorkville West      Manhattan       Manhattan  "
      ]
     },
     "execution_count": 2,
     "metadata": {},
     "output_type": "execute_result"
    }
   ],
   "source": [
    "#2 Data Exploration\n",
    "taxiData.head()"
   ]
  },
  {
   "cell_type": "markdown",
   "metadata": {},
   "source": []
  },
  {
   "cell_type": "code",
   "execution_count": 3,
   "metadata": {},
   "outputs": [
    {
     "name": "stdout",
     "output_type": "stream",
     "text": [
      "<class 'pandas.core.frame.DataFrame'>\n",
      "RangeIndex: 6433 entries, 0 to 6432\n",
      "Data columns (total 14 columns):\n",
      " #   Column           Non-Null Count  Dtype         \n",
      "---  ------           --------------  -----         \n",
      " 0   pickup           6433 non-null   datetime64[ns]\n",
      " 1   dropoff          6433 non-null   datetime64[ns]\n",
      " 2   passengers       6433 non-null   int64         \n",
      " 3   distance         6433 non-null   float64       \n",
      " 4   fare             6433 non-null   float64       \n",
      " 5   tip              6433 non-null   float64       \n",
      " 6   tolls            6433 non-null   float64       \n",
      " 7   total            6433 non-null   float64       \n",
      " 8   color            6433 non-null   object        \n",
      " 9   payment          6389 non-null   object        \n",
      " 10  pickup_zone      6407 non-null   object        \n",
      " 11  dropoff_zone     6388 non-null   object        \n",
      " 12  pickup_borough   6407 non-null   object        \n",
      " 13  dropoff_borough  6388 non-null   object        \n",
      "dtypes: datetime64[ns](2), float64(5), int64(1), object(6)\n",
      "memory usage: 703.7+ KB\n"
     ]
    }
   ],
   "source": [
    "#2 Data Exploration\n",
    "taxiData.info()"
   ]
  },
  {
   "cell_type": "markdown",
   "metadata": {},
   "source": []
  },
  {
   "cell_type": "code",
   "execution_count": 13,
   "metadata": {},
   "outputs": [
    {
     "name": "stdout",
     "output_type": "stream",
     "text": [
      "Uncleaned dataset: 6433\n",
      "Minimum of 1 passengers: 6337\n",
      "Minimum 1 passenger and distance: 6287\n",
      "Cleaned total: 146\n"
     ]
    }
   ],
   "source": [
    "#3 Data cleaning\n",
    "print(\"Uncleaned dataset:\",taxiData[\"total\"].count())\n",
    "tripData = taxiData.drop(taxiData[ (taxiData['passengers'] == 0)].index)\n",
    "print(\"Minimum of 1 passengers:\",tripData[\"total\"].count())\n",
    "tripData = tripData.drop(tripData[ (tripData['distance'] == 0)].index)\n",
    "print(\"Minimum 1 passenger and distance:\",tripData[\"total\"].count())\n",
    "print(\"Cleaned total:\", taxiData[\"total\"].count() - tripData[\"total\"].count())"
   ]
  },
  {
   "cell_type": "markdown",
   "metadata": {},
   "source": []
  },
  {
   "cell_type": "code",
   "execution_count": 14,
   "metadata": {},
   "outputs": [
    {
     "data": {
      "text/plain": [
       "<Axes: xlabel='dropoff_zone', ylabel='count'>"
      ]
     },
     "execution_count": 14,
     "metadata": {},
     "output_type": "execute_result"
    },
    {
     "data": {
      "image/png": "[encoded data removed]",
      "text/plain": [
       "<Figure size 640x480 with 1 Axes>"
      ]
     },
     "metadata": {},
     "output_type": "display_data"
    }
   ],
   "source": [
    "#4 Data Visualization\n",
    "sns.countplot(data=tripData, x=\"dropoff_zone\", order=tripData['dropoff_zone'].value_counts().iloc[:3].index)"
   ]
  },
  {
   "cell_type": "code",
   "execution_count": 15,
   "metadata": {},
   "outputs": [
    {
     "data": {
      "text/plain": [
       "<Axes: xlabel='pickup_zone', ylabel='count'>"
      ]
     },
     "execution_count": 15,
     "metadata": {},
     "output_type": "execute_result"
    },
    {
     "data": {
      "image/png": "[encoded data removed]",
      "text/plain": [
       "<Figure size 640x480 with 1 Axes>"
      ]
     },
     "metadata": {},
     "output_type": "display_data"
    }
   ],
   "source": [
    "sns.countplot(data=tripData, x=\"pickup_zone\", order=tripData['pickup_zone'].value_counts().iloc[:3].index)"
   ]
  },
  {
   "cell_type": "code",
   "execution_count": 17,
   "metadata": {},
   "outputs": [
    {
     "data": {
      "text/plain": [
       "<seaborn.axisgrid.JointGrid at 0x228091172f0>"
      ]
     },
     "execution_count": 17,
     "metadata": {},
     "output_type": "execute_result"
    },
    {
     "data": {
      "image/png": "[encoded data removed]",
      "text/plain": [
       "<Figure size 600x600 with 3 Axes>"
      ]
     },
     "metadata": {},
     "output_type": "display_data"
    }
   ],
   "source": [
    "sns.jointplot(data=tripData,x=\"pickup_zone\", y=\"pickup\", kind=\"hist\")"
   ]
  }
 ],
 "metadata": {
  "kernelspec": {
   "display_name": "Python 3",
   "language": "python",
   "name": "python3"
  },
  "language_info": {
   "codemirror_mode": {
    "name": "ipython",
    "version": 3
   },
   "file_extension": ".py",
   "mimetype": "text/x-python",
   "name": "python",
   "nbconvert_exporter": "python",
   "pygments_lexer": "ipython3",
   "version": "3.12.1"
  }
 },
 "nbformat": 4,
 "nbformat_minor": 2
}
