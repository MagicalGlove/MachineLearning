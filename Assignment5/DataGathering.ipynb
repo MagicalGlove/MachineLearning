{
 "cells": [
  {
   "cell_type": "code",
   "execution_count": 150,
   "metadata": {},
   "outputs": [],
   "source": [
    "import requests\n",
    "from bs4 import BeautifulSoup as bSoup"
   ]
  },
  {
   "cell_type": "code",
   "execution_count": 161,
   "metadata": {},
   "outputs": [],
   "source": [
    "base_url = \"https://warhammer40k.fandom.com\"\n",
    "total_urls = []"
   ]
  },
  {
   "cell_type": "markdown",
   "metadata": {},
   "source": [
    "Defining functions"
   ]
  },
  {
   "cell_type": "code",
   "execution_count": 162,
   "metadata": {},
   "outputs": [],
   "source": [
    "def add_to_total(s):\n",
    "    if(\"Category:\" not in s and s not in total_urls and \"?action=history\" not in s):\n",
    "        total_urls.append(s)\n",
    "\n",
    "def gather_links(categories):\n",
    "    for s in categories:\n",
    "        if(\"Category\" not in s):\n",
    "            res = requests.get(base_url + s)\n",
    "            soup = bSoup(res.content, 'html.parser')\n",
    "\n",
    "            add_to_total(s)\n",
    "\n",
    "            products = soup.find_all(\"a\")\n",
    "            for e in products:\n",
    "                if(e == None):\n",
    "                    continue\n",
    "\n",
    "                h = e.get(\"href\")\n",
    "                if(h == None):\n",
    "                    continue\n",
    "\n",
    "                if(len(h.split(':')) > 1):\n",
    "                    if(len(h.split(':')[1]) == 1):\n",
    "                        continue\n",
    "\n",
    "                if(\"/wiki\" not in h[0:5]):\n",
    "                    continue    \n",
    "\n",
    "                if(\"/wiki/\" in h and \"file\" not in h and \"https\" not in h and \"edit\" not in h and \"Special:Search\" not in h and \"File\" not in h):\n",
    "                    add_to_total(h)\n",
    "        else:\n",
    "            for f in [\"A\",\"B\",\"C\",\"D\",\"E\",\"F\",\"G\",\"H\",\"I\",\"J\",\"K\",\"L\",\"M\",\"N\",\"O\",\"P\",\"Q\",\"R\",\"S\",\"T\",\"U\",\"V\",\"W\",\"X\",\"Y\",\"Z\",\"¡\"]:\n",
    "                res = requests.get(base_url + s+\"?from=\"+f)\n",
    "                soup = bSoup(res.content, 'html.parser')\n",
    "\n",
    "                products = soup.find_all(\"a\")\n",
    "                for e in products:\n",
    "                    if(e == None):\n",
    "                        continue\n",
    "\n",
    "                    h = e.get(\"href\")\n",
    "                    if(h == None):\n",
    "                        continue\n",
    "\n",
    "                    if(len(h.split(':')) > 1):\n",
    "                        if(len(h.split(':')[1]) == 1):\n",
    "                            continue\n",
    "\n",
    "                    if(\"/wiki\" not in h[0:5]):\n",
    "                        continue    \n",
    "\n",
    "                    if(\"/wiki/\" in h and \"file\" not in h and \"https\" not in h and \"edit\" not in h and \"Special:Search\" not in h and \"File\" not in h):\n",
    "                        add_to_total(h)"
   ]
  },
  {
   "cell_type": "markdown",
   "metadata": {},
   "source": [
    "Imperium of Man"
   ]
  },
  {
   "cell_type": "code",
   "execution_count": 152,
   "metadata": {},
   "outputs": [],
   "source": [
    "imperial_categories = [\n",
    "    \"/wiki/Age_of_the_Imperium\",\n",
    "    \"/wiki/Space Marines\",\n",
    "    \"/wiki/Astra Militarum\",\n",
    "    \"/wiki/Navis_Imperialis\",\n",
    "    \"/wiki/Adeptus Mechanicus\",\n",
    "    \"/wiki/Adepta Sororitas\",\n",
    "    \"/wiki/Planets\",\n",
    "    \"/wiki/Imperial Dating System\",\n",
    "    \"/wiki/Timeline\",\n",
    "    \"/wiki/Great Crusade\",\n",
    "    \"/wiki/Horus Heresy\",\n",
    "    \"/wiki/Era Indomitus\",\n",
    "    \"/wiki/Inquisition\",\n",
    "    \"/wiki/Category:History\",\n",
    "    \"/wiki/Emperor of Mankind\",\n",
    "    \"/wiki/Primarchs\",\n",
    "    \"/wiki/Space Marine Legions\",\n",
    "    \"/wiki/Codex Astartes\",\n",
    "    \"/wiki/Deathwatch\",\n",
    "    \"/wiki/List of Space Marine Chapters\",\n",
    "    \"/wiki/Category:Space_Marines\",\n",
    "    \"/wiki/Commissars\",\n",
    "    \"/wiki/Militarum Tempestus\",\n",
    "    \"/wiki/Storm Troopers\",\n",
    "    \"/wiki/Abhumans\",\n",
    "    \"/wiki/Category:Imperial_Guard\",\n",
    "    \"/wiki/Aeronautica Imperialis\",\n",
    "    \"/wiki/Rogue Traders\",\n",
    "    \"/wiki/Category:Imperial_Navy\",\n",
    "    \"/wiki/Cult Mechanicus\",\n",
    "    \"/wiki/Tech-priest\",\n",
    "    \"/wiki/Adeptus Titanicus\",\n",
    "    \"/wiki/Imperial Knights\",\n",
    "    \"/wiki/Skitarii\",\n",
    "    \"/wiki/Forge Worlds\",\n",
    "    \"/wiki/Knight Worlds\",\n",
    "    \"/wiki/Category:Adepta_Sororitas\",\n",
    "    \"/wiki/Terra\",\n",
    "    \"/wiki/Mars\",\n",
    "    \"/wiki/Cadia\",\n",
    "    \"/wiki/Macragge\",\n",
    "    \"/wiki/Armageddon\",\n",
    "    \"/wiki/Fenris\",\n",
    "    \"/wiki/Category:Planets\",\n",
    "]\n",
    "\n",
    "gather_links(imperial_categories)"
   ]
  },
  {
   "cell_type": "markdown",
   "metadata": {},
   "source": [
    "Forces of Chaos"
   ]
  },
  {
   "cell_type": "code",
   "execution_count": 154,
   "metadata": {},
   "outputs": [],
   "source": [
    "chaos_categories = [\n",
    "    \"/wiki/Chaos\",\n",
    "    \"/wiki/Chaos Daemons\",\n",
    "    \"/wiki/Forces of Chaos\",\n",
    "    \"/wiki/Chaos Gods\",\n",
    "    \"/wiki/Chaos Undivided\",\n",
    "    \"/wiki/Khorne\",\n",
    "    \"/wiki/Tzeentch\",\n",
    "    \"/wiki/Nurgle\",\n",
    "    \"/wiki/Slaanesh\",\n",
    "    \"/wiki/Malice\",\n",
    "    \"/wiki/Greater Daemons\",\n",
    "    \"/wiki/Lesser Daemons\",\n",
    "    \"/wiki/Daemon Prince\",\n",
    "    \"/wiki/Eye of Terror\",\n",
    "    \"/wiki/Great Rift\",\n",
    "    \"/wiki/Chaos Space Marines\",\n",
    "    \"/wiki/List of Chaos Space Marine Warbands\",\n",
    "    \"/wiki/The Lost and the Damned\",\n",
    "    \"/wiki/Dark Mechanicum\",\n",
    "    \"/wiki/Chaos Knights\",\n",
    "    \"/wiki/Chaos Cults\",\n",
    "    \"/wiki/Category:Chaos\",\n",
    "]\n",
    "\n",
    "gather_links(chaos_categories)"
   ]
  },
  {
   "cell_type": "markdown",
   "metadata": {},
   "source": [
    "Xenos"
   ]
  },
  {
   "cell_type": "code",
   "execution_count": 155,
   "metadata": {},
   "outputs": [],
   "source": [
    "xenos_categories = [\n",
    "    \"/wiki/Craftworld Aeldari\",\n",
    "    \"/wiki/Drukhari\",\n",
    "    \"/wiki/Leagues of Votann\",\n",
    "    \"/wiki/Orks\",\n",
    "    \"/wiki/Necrons\",\n",
    "    \"/wiki/Tyranids\",\n",
    "    \"/wiki/T'au Empire\",\n",
    "    \"/wiki/Craftworlds\",\n",
    "    \"/wiki/Asuryani Path\",\n",
    "    \"/wiki/Aeldari Mythology\",\n",
    "    \"/wiki/Category:Eldar\",\n",
    "    \"/wiki/Kabal\",\n",
    "    \"/wiki/Category:Dark_Eldar\",\n",
    "    \"/wiki/Category:Leagues_of_Votann\",\n",
    "    \"/wiki/WAAAGH!\",\n",
    "    \"/wiki/Ork Empire\",\n",
    "    \"/wiki/Category:Ork\",\n",
    "    \"/wiki/War_in_Heaven_(Necron)\",\n",
    "    \"/wiki/Tomb World\",\n",
    "    \"/wiki/Category:Necron\",\n",
    "    \"/wiki/Hive_Fleet\",\n",
    "    \"/wiki/Category:Tyranid\",\n",
    "    \"/wiki/Category:Tau\",\n",
    "]\n",
    "\n",
    "gather_links(xenos_categories)"
   ]
  },
  {
   "cell_type": "code",
   "execution_count": 164,
   "metadata": {},
   "outputs": [
    {
     "name": "stdout",
     "output_type": "stream",
     "text": [
      "Total url count: 0\n"
     ]
    }
   ],
   "source": [
    "total_urls.sort()\n",
    "print(\"Total url count:\",len(total_urls))\n",
    "for s in total_urls:\n",
    "    print(s)"
   ]
  },
  {
   "cell_type": "markdown",
   "metadata": {},
   "source": [
    "Gather text and upload to database"
   ]
  },
  {
   "cell_type": "code",
   "execution_count": 163,
   "metadata": {},
   "outputs": [
    {
     "ename": "IndexError",
     "evalue": "list index out of range",
     "output_type": "error",
     "traceback": [
      "\u001b[1;31m---------------------------------------------------------------------------\u001b[0m",
      "\u001b[1;31mIndexError\u001b[0m                                Traceback (most recent call last)",
      "Cell \u001b[1;32mIn[163], line 5\u001b[0m\n\u001b[0;32m      2\u001b[0m start_index \u001b[38;5;241m=\u001b[39m \u001b[38;5;241m0\u001b[39m\n\u001b[0;32m      4\u001b[0m \u001b[38;5;28;01mfor\u001b[39;00m i \u001b[38;5;129;01min\u001b[39;00m \u001b[38;5;28mrange\u001b[39m(start_index, \u001b[38;5;241m20\u001b[39m):\n\u001b[1;32m----> 5\u001b[0m     \u001b[38;5;28mprint\u001b[39m(\u001b[38;5;124m\"\u001b[39m\u001b[38;5;124mGathering from: (\u001b[39m\u001b[38;5;124m\"\u001b[39m \u001b[38;5;241m+\u001b[39m \u001b[38;5;28mstr\u001b[39m(i) \u001b[38;5;241m+\u001b[39m \u001b[38;5;124m\"\u001b[39m\u001b[38;5;124m) \u001b[39m\u001b[38;5;124m\"\u001b[39m \u001b[38;5;241m+\u001b[39m base_url \u001b[38;5;241m+\u001b[39m \u001b[43mtotal_urls\u001b[49m\u001b[43m[\u001b[49m\u001b[43mi\u001b[49m\u001b[43m]\u001b[49m)\n\u001b[0;32m      6\u001b[0m     res \u001b[38;5;241m=\u001b[39m requests\u001b[38;5;241m.\u001b[39mget(base_url \u001b[38;5;241m+\u001b[39m total_urls[i])\n\u001b[0;32m      7\u001b[0m     \u001b[38;5;28mprint\u001b[39m(\u001b[38;5;124m\"\u001b[39m\u001b[38;5;124mWeb response code: \u001b[39m\u001b[38;5;124m\"\u001b[39m \u001b[38;5;241m+\u001b[39m \u001b[38;5;28mstr\u001b[39m(res\u001b[38;5;241m.\u001b[39mstatus_code))\n",
      "\u001b[1;31mIndexError\u001b[0m: list index out of range"
     ]
    }
   ],
   "source": [
    "#If the progress stops mid way then you can change the start index to where you last stopped.\n",
    "start_index = 0\n",
    "\n",
    "for i in range(start_index, 20):\n",
    "    print(\"Gathering from: (\" + str(i) + \") \" + base_url + total_urls[i])\n",
    "    res = requests.get(base_url + total_urls[i])\n",
    "    print(\"Web response code: \" + str(res.status_code))\n",
    "\n",
    "    text_storage = []\n",
    "\n",
    "    soup = bSoup(res.content)\n",
    "    print(\"Title: \" + soup.title.text.split(\"|\")[0])\n",
    "    products = soup.find_all(\"p\")\n",
    "    print(\"Found \"+ str(len(products)) + \" text elements\")\n",
    "    for p in products:\n",
    "        text_storage.append(p.text)\n",
    "\n",
    "    print(\"\")    "
   ]
  }
 ],
 "metadata": {
  "kernelspec": {
   "display_name": "Python 3",
   "language": "python",
   "name": "python3"
  },
  "language_info": {
   "codemirror_mode": {
    "name": "ipython",
    "version": 3
   },
   "file_extension": ".py",
   "mimetype": "text/x-python",
   "name": "python",
   "nbconvert_exporter": "python",
   "pygments_lexer": "ipython3",
   "version": "3.12.1"
  }
 },
 "nbformat": 4,
 "nbformat_minor": 2
}
