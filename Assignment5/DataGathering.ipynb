{
 "cells": [
  {
   "cell_type": "code",
   "execution_count": null,
   "metadata": {},
   "outputs": [],
   "source": []
  },
  {
   "cell_type": "code",
   "execution_count": null,
   "metadata": {},
   "outputs": [],
   "source": [
    "base_url = \"https://warhammer40k.fandom.com/wiki/\""
   ]
  },
  {
   "cell_type": "markdown",
   "metadata": {},
   "source": [
    "Imperium of Man"
   ]
  },
  {
   "cell_type": "code",
   "execution_count": 1,
   "metadata": {},
   "outputs": [],
   "source": [
    "imperial_categories = [\n",
    "    \"Imperial History\",\n",
    "    \"Space Marines\",\n",
    "    \"Astra Militarum\",\n",
    "    \"Imperial Navy\",\n",
    "    \"Adeptus Mechanicus\",\n",
    "    \"Adepta Sororitas\",\n",
    "    \"Planets\",\n",
    "    \"Imperial Dating System\",\n",
    "    \"Timeline\",\n",
    "    \"Great Crusade\",\n",
    "    \"Horus Heresy\",\n",
    "    \"Era Indomitus\",\n",
    "    \"Inquisition\",\n",
    "    \"Important Eras\",\n",
    "    \"Emperor of Mankind\",\n",
    "    \"Primarchs\",\n",
    "    \"Space Marine Legions\",\n",
    "    \"Codex Astartes\",\n",
    "    \"Deathwatch\",\n",
    "    \"List of Space Marine Chapters\",\n",
    "    \"Space Marine Important Links\",\n",
    "    \"Commissars\",\n",
    "    \"Militarum Tempestus\",\n",
    "    \"Storm Troopers\",\n",
    "    \"Abhumans\",\n",
    "    \"Astra Militarum Important Links\",\n",
    "    \"Aeronautica Imperialis\",\n",
    "    \"Rogue Traders\",\n",
    "    \"Imperial Navy Important Links\",\n",
    "    \"Cult Mechanicus\",\n",
    "    \"Tech-priest\",\n",
    "    \"Adeptus Titanicus\",\n",
    "    \"Imperial Knights\",\n",
    "    \"Skitarii\",\n",
    "    \"Forge Worlds\",\n",
    "    \"Knight Worlds\",\n",
    "    \"Adepta Sororitas Important Links\",\n",
    "    \"Terra\",\n",
    "    \"Mars\",\n",
    "    \"Cadia\",\n",
    "    \"Macragge\",\n",
    "    \"Armageddon\",\n",
    "    \"Fenris\",\n",
    "    \"Important Planets\",\n",
    "]"
   ]
  },
  {
   "cell_type": "markdown",
   "metadata": {},
   "source": [
    "Forces of Chaos"
   ]
  },
  {
   "cell_type": "code",
   "execution_count": null,
   "metadata": {},
   "outputs": [],
   "source": [
    "chaos_categories = [\n",
    "    \"Powers of Chaos\",\n",
    "    \"Chaos Daemons\",\n",
    "    \"Forces of Chaos\",\n",
    "    \"Chaos Gods\",\n",
    "    \"Chaos Undivided\",\n",
    "    \"Khorne\",\n",
    "    \"Tzeentch\",\n",
    "    \"Nurgle\",\n",
    "    \"Slaanesh\",\n",
    "    \"Malice\",\n",
    "    \"Greater Daemons\",\n",
    "    \"Lesser Daemons\",\n",
    "    \"Daemon Prince\",\n",
    "    \"Eye of Terror\",\n",
    "    \"Great Rift\",\n",
    "    \"Chaos Space Marines\",\n",
    "    \"List of Chaos Space Marine Warbands\",\n",
    "    \"The Lost and the Damned\",\n",
    "    \"Dark Mechanicum\",\n",
    "    \"Chaos Knights\",\n",
    "    \"Chaos Cults\",\n",
    "    \"Chaos Important Links\",\n",
    "]"
   ]
  },
  {
   "cell_type": "markdown",
   "metadata": {},
   "source": [
    "Xenos"
   ]
  },
  {
   "cell_type": "code",
   "execution_count": null,
   "metadata": {},
   "outputs": [],
   "source": [
    "xenos_categories = [\n",
    "    \"Craftworld Aeldari\",\n",
    "    \"Drukhari\",\n",
    "    \"Leagues of Votann\",\n",
    "    \"Orks\",\n",
    "    \"Necrons\",\n",
    "    \"Tyranids\",\n",
    "    \"T'au Empire\",\n",
    "    \"Craftworlds\",\n",
    "    \"Asuryani Path\",\n",
    "    \"Aeldari Mythology\",\n",
    "    \"Craftworld Aeldari Important Links\",\n",
    "    \"Drukhari Kabals\",\n",
    "    \"Drukhari Important Links\",\n",
    "    \"Leagues of Votann Important Links\",\n",
    "    \"Ork WAAAGH!s\",\n",
    "    \"Ork Empires\",\n",
    "    \"Orks Important Links\",\n",
    "    \"The War in Heaven\",\n",
    "    \"Tomb World\",\n",
    "    \"Necrons Important Links\",\n",
    "    \"Tyranid Hive Fleets\",\n",
    "    \"Tyranids Important Links\",\n",
    "    \"T'au Empire Important Links\",\n",
    "]"
   ]
  }
 ],
 "metadata": {
  "kernelspec": {
   "display_name": "Python 3",
   "language": "python",
   "name": "python3"
  },
  "language_info": {
   "codemirror_mode": {
    "name": "ipython",
    "version": 3
   },
   "file_extension": ".py",
   "mimetype": "text/x-python",
   "name": "python",
   "nbconvert_exporter": "python",
   "pygments_lexer": "ipython3",
   "version": "3.12.3"
  }
 },
 "nbformat": 4,
 "nbformat_minor": 2
}
