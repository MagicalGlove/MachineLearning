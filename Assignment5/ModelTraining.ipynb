{
 "cells": [
  {
   "cell_type": "code",
   "execution_count": 2,
   "metadata": {
    "collapsed": false
   },
   "outputs": [],
   "source": [
    "import os\n",
    "from pprint import pprint\n",
    "from openai import OpenAI\n",
    "import bson\n",
    "from dotenv import load_dotenv\n",
    "import pymongo\n",
    "\n",
    "# Load config from a .env file:\n",
    "load_dotenv(\"config.env\",verbose=True)\n",
    "MONGODB_URI = os.environ[\"MONGO_URI\"]\n",
    "\n",
    "# Connect to your MongoDB cluster:\n",
    "client = pymongo.MongoClient(MONGODB_URI)\n",
    "\n",
    "# Get a reference to the \"sample_mflix\" database:\n",
    "db = client[\"cluster0\"]\n",
    "\n",
    "# Get a reference to the \"movies\" collection:\n",
    "collection  = db[\"40klore\"]\n"
   ]
  },
  {
   "cell_type": "code",
   "execution_count": 3,
   "metadata": {
    "collapsed": false
   },
   "outputs": [],
   "source": [
    "def  get_embeddings(text):\n",
    "    key = os.environ['OPENAI_KEY']\n",
    "    client = OpenAI(api_key=key)\n",
    "    return client.embeddings.create(input = [text], model=\"text-embedding-3-small\").data[0].embedding\n",
    "\n",
    "\n",
    "def vector_search(query, num_results=10):\n",
    "    query_emb = get_embeddings(query)\n",
    "    pipeline = [\n",
    "        {\n",
    "            \"$vectorSearch\": {\n",
    "                \"index\": \"vector_index\",\n",
    "                \"path\": \"embedding\",\n",
    "                \"queryVector\": query_emb,\n",
    "                \"numCandidates\": 200,\n",
    "                \"limit\": num_results\n",
    "            }\n",
    "        }\n",
    "    ]\n",
    "    return collection.aggregate(pipeline)"
   ]
  },
  {
   "cell_type": "code",
   "execution_count": 4,
   "metadata": {
    "collapsed": false
   },
   "outputs": [
    {
     "name": "stdout",
     "output_type": "stream",
     "text": [
      " * 13th Black Crusade (Original) , The 13th Black Crusade began as the in-game background to the 2003 worldwide Warhammer 40,000 Eye of Terror Campaign. At the time, it resulted in a minor victory for the Forces of Chaos. Its temporary conclusion provided the Warmaster of Chaos Undivided, Abaddon the Despoiler of the Black Legion, and his Chaotic allies the territorial foothold they had long sought within the Cadian Gate, though the servants of the Dark Gods suffered grievous losses to their naval warfleet.\n",
      "For several solar months after the pause in major combat operations, the surface of the Fortress World of Cadia was largely controlled by the Forces of Chaos, while the skies above Cadia were almost entirely ruled by Lord Admiral Quarren and the Gothic and Solar Battlefleet Groups as well as fleet elements from several Chapters of Space Marines. Thus, for a brief time, it seemed the ultimate result of the 13th Black Crusade was a stalemate between the forces of the Emperor and the Ruinous Powers. Having both space and air superiority provided a significant advantage to the Imperial forces, allowing the deployment of fresh troops and the continuous bombardment of Abaddon's trapped army on Cadia.\n",
      "In 2017, Games Workshop decided to pursue a different storyline than the stalemate that had emerged from the original 2003 worldwide campaign, and the course of the 13th Black Crusade was retconned along a different path., /wiki/13th_Black_Crusade_(Original)\n",
      " * Black Crusade , \"Only the strongest shall arise to lead the Black Crusade.\"\n",
      "The course of the Black Crusades and other Chaos incursions into Imperial space.A Black Crusade is a military campaign unleashed upon the Milky Way Galaxy when the forces of Chaos manage to unite under the leadership of a powerful Champion of Chaos. \n",
      "They then launch a massive offensive from their base within the great Warp rift called the Eye of Terror against the worlds of the Imperium of Man. \n",
      "The term can also sometimes be used for other incursions by the mortal and daemonic servants of Chaos out of the smaller Warp rifts that exist across the galaxy. \n",
      "Commanding one of these campaigns is often considered the greatest reward that can be bestowed upon a mortal servant of the Chaos Gods. Successfully achieving the stated objective of one of these lesser Black Crusades can result in the ultimate reward: ascension to the rank of Daemon Prince.\n",
      "The most devastating Black Crusades have been led by the Warmaster of Chaos and commander of the Black Legion, Abaddon the Despoiler, the self-proclaimed heir of Horus, who has led multiple Black Crusades against the Imperium., /wiki/Black_Crusade\n",
      " * Black Crusade , \"Only the strongest shall arise to lead the Black Crusade.\"\n",
      "The course of the Black Crusades and other Chaos incursions into Imperial space.A Black Crusade is a military campaign unleashed upon the Milky Way Galaxy when the forces of Chaos manage to unite under the leadership of a powerful Champion of Chaos. \n",
      "They then launch a massive offensive from their base within the great Warp rift called the Eye of Terror against the worlds of the Imperium of Man. \n",
      "The term can also sometimes be used for other incursions by the mortal and daemonic servants of Chaos out of the smaller Warp rifts that exist across the galaxy. \n",
      "Commanding one of these campaigns is often considered the greatest reward that can be bestowed upon a mortal servant of the Chaos Gods. Successfully achieving the stated objective of one of these lesser Black Crusades can result in the ultimate reward: ascension to the rank of Daemon Prince.\n",
      "The most devastating Black Crusades have been led by the Warmaster of Chaos and commander of the Black Legion, Abaddon the Despoiler, the self-proclaimed heir of Horus, who has led multiple Black Crusades against the Imperium., /wiki/Black_Crusades\n",
      " * Black Crusade , The most devastating Black Crusades have been led by the Warmaster of Chaos and commander of the Black Legion, Abaddon the Despoiler, the self-proclaimed heir of Horus, who has led multiple Black Crusades against the Imperium. \n",
      "Each of these Black Crusades actually had a larger, secret purpose known to Abaddon which was intended in ultimately paving the way for a final, massive assault upon the Imperial Fortress World of Cadia and unleashing a plan for the final victory of Chaos known as the \"Crimson Path.\" The most recent of these campaigns was the 13th Black Crusade in 999.M41, the largest and most successful of them all which succeeded at almost all of Abaddon's goals.\n",
      "The 1st Black Crusade occurred in the late 31st Millennium, five standard centuries after the end of the Horus Heresy. Utilising the region of calm space around the Eye of Terror known as the Cadian Gate, Abaddon led the combined forces of the Chaos Space Marine Traitor Legions against scores of Imperial worlds, and was responsible for millions of deaths in the first solar week alone. \n",
      "Multiple worlds were lost before the Imperium could launch an effective counterassault, and although the Black Crusade was ultimately defeated, the Imperium was forced to heavily fortify the surrounding Cadian Sector, transforming Cadia itself into a Fortress World., /wiki/Black_Crusade\n",
      " * Black Crusade , The most devastating Black Crusades have been led by the Warmaster of Chaos and commander of the Black Legion, Abaddon the Despoiler, the self-proclaimed heir of Horus, who has led multiple Black Crusades against the Imperium. \n",
      "Each of these Black Crusades actually had a larger, secret purpose known to Abaddon which was intended in ultimately paving the way for a final, massive assault upon the Imperial Fortress World of Cadia and unleashing a plan for the final victory of Chaos known as the \"Crimson Path.\" The most recent of these campaigns was the 13th Black Crusade in 999.M41, the largest and most successful of them all which succeeded at almost all of Abaddon's goals.\n",
      "The 1st Black Crusade occurred in the late 31st Millennium, five standard centuries after the end of the Horus Heresy. Utilising the region of calm space around the Eye of Terror known as the Cadian Gate, Abaddon led the combined forces of the Chaos Space Marine Traitor Legions against scores of Imperial worlds, and was responsible for millions of deaths in the first solar week alone. \n",
      "Multiple worlds were lost before the Imperium could launch an effective counterassault, and although the Black Crusade was ultimately defeated, the Imperium was forced to heavily fortify the surrounding Cadian Sector, transforming Cadia itself into a Fortress World., /wiki/Black_Crusades\n",
      " * Black Legion , In the wake of the 1st Black Crusade, a time of constant raiding of Imperial space began. Abaddon was content to give a Black Legion warlord and his warband of Chaos Space Marines the chance to make a name for themselves, allowing them the freedom to strike where and when they would. He fostered this independence on one condition: the atrocities they committed must be done in the name of the Black Legion and at cost to the Emperor.\n",
      "Starting with the 1st Black Crusade, thirteen times has Abaddon the Despoiler led the Black Legion in a grand assault against the Imperium. Every time, the Despoiler and his hordes have achieved a great victory, slain millions of Loyalists or completed some obscure objective before vanishing back into the Eye of Terror. At the close of the 41st Millennium, Abaddon led his 13th Black Crusade in the final conquest of Cadia, emerging stronger than ever before at the head of a vast army of Traitors, Heretics and daemons., /wiki/Black_Legion\n",
      " * Black Crusade , Multiple worlds were lost before the Imperium could launch an effective counterassault, and although the Black Crusade was ultimately defeated, the Imperium was forced to heavily fortify the surrounding Cadian Sector, transforming Cadia itself into a Fortress World.\n",
      "The forces of Chaos engage the defenders of the Imperium of Man during the 13th Black Crusade.Over the course of the intervening ten thousand standard years, the forces of Chaos under the command of the Despoiler have launched a further twelve Black Crusades. Millions of other attacks have been made on the worlds of the Cadian Gate by Daemon Princes and lesser Chaos warlords, but the title of Black Crusade is reserved for the times when Abaddon or another powerful Chaos Lord is able to unite all of the forces of Chaos located within the Eye of Terror in the pursuit of one goal -- the destruction of the Imperium of Man, the greatest bastion of Order in the galaxy.\n",
      "The 41st Millennium saw two major Black Crusades. The 12th Black Crusade, also known as the Gothic War, began in 139.M41 and lasted until 160.M41. It represented Abaddon's attempt to capture the ancient xenos artefacts called the Talismans of Vaul by the Aeldari, but known to the Imperium as the six Blackstone Fortresses. The Aeldari allied themselves with the Imperium to defeat the Chaos forces, and were successful, although Abaddon escaped with at least two of the Blackstone Fortresses., /wiki/Black_Crusade\n",
      " * Black Crusade , Multiple worlds were lost before the Imperium could launch an effective counterassault, and although the Black Crusade was ultimately defeated, the Imperium was forced to heavily fortify the surrounding Cadian Sector, transforming Cadia itself into a Fortress World.\n",
      "The forces of Chaos engage the defenders of the Imperium of Man during the 13th Black Crusade.Over the course of the intervening ten thousand standard years, the forces of Chaos under the command of the Despoiler have launched a further twelve Black Crusades. Millions of other attacks have been made on the worlds of the Cadian Gate by Daemon Princes and lesser Chaos warlords, but the title of Black Crusade is reserved for the times when Abaddon or another powerful Chaos Lord is able to unite all of the forces of Chaos located within the Eye of Terror in the pursuit of one goal -- the destruction of the Imperium of Man, the greatest bastion of Order in the galaxy.\n",
      "The 41st Millennium saw two major Black Crusades. The 12th Black Crusade, also known as the Gothic War, began in 139.M41 and lasted until 160.M41. It represented Abaddon's attempt to capture the ancient xenos artefacts called the Talismans of Vaul by the Aeldari, but known to the Imperium as the six Blackstone Fortresses. The Aeldari allied themselves with the Imperium to defeat the Chaos forces, and were successful, although Abaddon escaped with at least two of the Blackstone Fortresses., /wiki/Black_Crusades\n",
      " * 10th Black Crusade , The 10th Black Crusade, also known as the Conflict of Helica, was a joint campaign of the Forces of Chaos that was led by Abaddon the Despoiler and the Daemon Primarch Perturabo. Launched out of the Eye of Terror in 001.M39, both the Black Legion and the Iron Warriors Traitor Legions struck against the Helica Sector.\n",
      "While the Black Legion attacked the capital world of the sector, the Hive World of Thracian Primaris, the Iron Warriors focused their own assault against Medusa, the homeworld of the Loyalist Iron Hands Chapter, to fulfil an old blood debt. In a series of bitter sieges, the Iron Warriors assaulted the Medusa System's worlds and pushed the Iron Hands to the brink of destruction.\n",
      "Only when the Loyalist Chapter received heavy Imperial reinforcements did Abaddon and the Iron Warriors retreat back to the Eye of Terror, taking with them valuable information about the world of Medusa and its defences to be used at a later and more opportune time.\n",
      "In the 10th Black Crusade Abaddon forged a dark alliance between the Black Legion and the Iron Warriors, making a deal with the daemonic Primarch Perturabo. In exchange for Abaddon agreeing to settle a debt of vengeance against the Iron Hands, Perturabo opened an ancient Warp route out of the Eye of Terror for the Despoiler's Black Fleet., /wiki/10th_Black_Crusade\n",
      " * 9th Black Crusade , The 9th Black Crusade was a Black Crusade led by the infamous Chaos Champion Abaddon the Despoiler and his Black Legion, launched out of the Eye of Terror in 537.M38. Intending to bring about the demise of the naval fortress of Cancephalus, Abaddon led his forces against the heaving populations of the nearby world of Antecanis. \n",
      "Monarchhive, the hive city that served as the seat of Antecanis' Imperial Commander, was besieged by Abaddon's vanguard. The Black Legionaries burned and butchered their way through the lower levels, whilst Abaddon himself stormed its inner sanctums. The hive populations were slowly destroyed by the slaughter.\n",
      "By the time the forces of the Astra Militarum arrived from Cancephalus to reinforce the desperate survivors, Abaddon and his favoured Legionaries had already left orbit, dropping a dozen Cyclonic warheads onto the ruins of Monarchhive in a last gesture of contempt. \n",
      "The seventeen-standard-year-long war that ensued robbed both Antecanis and Cancephalus of their most precious resource -- manpower. Without the fleets of Cancephalus to stop him, Abaddon was able to ravage the rest of the sector at will , and his Sorcerers were free to conduct the rituals required to weaken the walls of reality in that region of space with impunity., /wiki/9th_Black_Crusade\n"
     ]
    }
   ],
   "source": [
    "\n",
    "query = \"Who led the 13th black crusade?\"\n",
    "\n",
    "\n",
    "results = vector_search(query)\n",
    "\n",
    "for doc in results:\n",
    "   print(\" * {title}, {content}, {url}\".format(\n",
    "         title=doc[\"title\"],\n",
    "         content=doc[\"content\"],\n",
    "         url=doc[\"url\"],\n",
    "   ))"
   ]
  },
  {
   "cell_type": "code",
   "execution_count": null,
   "metadata": {
    "collapsed": false
   },
   "outputs": [],
   "source": []
  }
 ],
 "metadata": {
  "kernelspec": {
   "display_name": "Python 3",
   "language": "python",
   "name": "python3"
  },
  "language_info": {
   "codemirror_mode": {
    "name": "ipython",
    "version": 3
   },
   "file_extension": ".py",
   "mimetype": "text/x-python",
   "name": "python",
   "nbconvert_exporter": "python",
   "pygments_lexer": "ipython3",
   "version": "3.12.2"
  }
 },
 "nbformat": 4,
 "nbformat_minor": 0
}
