{
 "cells": [
  {
   "cell_type": "code",
   "execution_count": 27,
   "id": "initial_id",
   "metadata": {
    "collapsed": true,
    "ExecuteTime": {
     "end_time": "2024-03-13T21:08:50.781626600Z",
     "start_time": "2024-03-13T21:08:50.315176700Z"
    }
   },
   "outputs": [],
   "source": [
    "import pandas as pd\n",
    "import numpy as np\n",
    "import seaborn as sns\n",
    "import matplotlib.pyplot as plt\n",
    "from sklearn.model_selection import train_test_split, cross_val_score, cross_validate \n",
    "from sklearn.preprocessing import StandardScaler\n",
    "from sklearn.neighbors import KNeighborsClassifier\n",
    "from sklearn.metrics import accuracy_score, precision_score, recall_score, f1_score\n",
    "\n",
    "\n",
    "data = pd.read_csv(r\"C:\\Users\\KRP\\Programming\\School\\AiCphBusiness\\MachineLearning\\Assignment2\\diamonds.csv\")\n",
    "data = data.drop([\"Unnamed: 0\"], axis=1)\n",
    "data.head()\n",
    "\n",
    "\n",
    "data['volume']=data['x']*data['y']*data['z']\n",
    "data=data.drop(['x','y','z'],axis=1)\n",
    "\n",
    "new_color = {'J':1,'I':2, 'H':3,'G':4,'F':5,'E':6,'D':7}\n",
    "data['color'] = data['color'].map(new_color)\n",
    "\n",
    "new_clarity = {'I1':1,'SI2':2,'SI1':3,'VS2':4,'VS1':5,'VVS2':6,'VVS1':7,'IF':8}\n",
    "data['clarity'] = data['clarity'].map(new_clarity)\n",
    "\n",
    "y = data.pop(\"cut\")\n",
    "x = data"
   ]
  },
  {
   "cell_type": "code",
   "execution_count": 16,
   "outputs": [],
   "source": [
    "# Split the data into training and test sets\n",
    "\n",
    "x_train, x_test, y_train, y_test = train_test_split(x,y,test_size=0.1)\n",
    "scaler = StandardScaler()\n",
    "x_train = scaler.fit_transform(x_train)\n",
    "x_test = scaler.transform(x_test)"
   ],
   "metadata": {
    "collapsed": false,
    "ExecuteTime": {
     "end_time": "2024-03-13T14:42:06.765347400Z",
     "start_time": "2024-03-13T14:42:06.731991500Z"
    }
   },
   "id": "ed6fd72ae78132fe"
  },
  {
   "cell_type": "code",
   "execution_count": 17,
   "outputs": [
    {
     "data": {
      "text/plain": "KNeighborsClassifier(n_neighbors=3)",
      "text/html": "<style>#sk-container-id-1 {\n  /* Definition of color scheme common for light and dark mode */\n  --sklearn-color-text: black;\n  --sklearn-color-line: gray;\n  /* Definition of color scheme for unfitted estimators */\n  --sklearn-color-unfitted-level-0: #fff5e6;\n  --sklearn-color-unfitted-level-1: #f6e4d2;\n  --sklearn-color-unfitted-level-2: #ffe0b3;\n  --sklearn-color-unfitted-level-3: chocolate;\n  /* Definition of color scheme for fitted estimators */\n  --sklearn-color-fitted-level-0: #f0f8ff;\n  --sklearn-color-fitted-level-1: #d4ebff;\n  --sklearn-color-fitted-level-2: #b3dbfd;\n  --sklearn-color-fitted-level-3: cornflowerblue;\n\n  /* Specific color for light theme */\n  --sklearn-color-text-on-default-background: var(--sg-text-color, var(--theme-code-foreground, var(--jp-content-font-color1, black)));\n  --sklearn-color-background: var(--sg-background-color, var(--theme-background, var(--jp-layout-color0, white)));\n  --sklearn-color-border-box: var(--sg-text-color, var(--theme-code-foreground, var(--jp-content-font-color1, black)));\n  --sklearn-color-icon: #696969;\n\n  @media (prefers-color-scheme: dark) {\n    /* Redefinition of color scheme for dark theme */\n    --sklearn-color-text-on-default-background: var(--sg-text-color, var(--theme-code-foreground, var(--jp-content-font-color1, white)));\n    --sklearn-color-background: var(--sg-background-color, var(--theme-background, var(--jp-layout-color0, #111)));\n    --sklearn-color-border-box: var(--sg-text-color, var(--theme-code-foreground, var(--jp-content-font-color1, white)));\n    --sklearn-color-icon: #878787;\n  }\n}\n\n#sk-container-id-1 {\n  color: var(--sklearn-color-text);\n}\n\n#sk-container-id-1 pre {\n  padding: 0;\n}\n\n#sk-container-id-1 input.sk-hidden--visually {\n  border: 0;\n  clip: rect(1px 1px 1px 1px);\n  clip: rect(1px, 1px, 1px, 1px);\n  height: 1px;\n  margin: -1px;\n  overflow: hidden;\n  padding: 0;\n  position: absolute;\n  width: 1px;\n}\n\n#sk-container-id-1 div.sk-dashed-wrapped {\n  border: 1px dashed var(--sklearn-color-line);\n  margin: 0 0.4em 0.5em 0.4em;\n  box-sizing: border-box;\n  padding-bottom: 0.4em;\n  background-color: var(--sklearn-color-background);\n}\n\n#sk-container-id-1 div.sk-container {\n  /* jupyter's `normalize.less` sets `[hidden] { display: none; }`\n     but bootstrap.min.css set `[hidden] { display: none !important; }`\n     so we also need the `!important` here to be able to override the\n     default hidden behavior on the sphinx rendered scikit-learn.org.\n     See: https://github.com/scikit-learn/scikit-learn/issues/21755 */\n  display: inline-block !important;\n  position: relative;\n}\n\n#sk-container-id-1 div.sk-text-repr-fallback {\n  display: none;\n}\n\ndiv.sk-parallel-item,\ndiv.sk-serial,\ndiv.sk-item {\n  /* draw centered vertical line to link estimators */\n  background-image: linear-gradient(var(--sklearn-color-text-on-default-background), var(--sklearn-color-text-on-default-background));\n  background-size: 2px 100%;\n  background-repeat: no-repeat;\n  background-position: center center;\n}\n\n/* Parallel-specific style estimator block */\n\n#sk-container-id-1 div.sk-parallel-item::after {\n  content: \"\";\n  width: 100%;\n  border-bottom: 2px solid var(--sklearn-color-text-on-default-background);\n  flex-grow: 1;\n}\n\n#sk-container-id-1 div.sk-parallel {\n  display: flex;\n  align-items: stretch;\n  justify-content: center;\n  background-color: var(--sklearn-color-background);\n  position: relative;\n}\n\n#sk-container-id-1 div.sk-parallel-item {\n  display: flex;\n  flex-direction: column;\n}\n\n#sk-container-id-1 div.sk-parallel-item:first-child::after {\n  align-self: flex-end;\n  width: 50%;\n}\n\n#sk-container-id-1 div.sk-parallel-item:last-child::after {\n  align-self: flex-start;\n  width: 50%;\n}\n\n#sk-container-id-1 div.sk-parallel-item:only-child::after {\n  width: 0;\n}\n\n/* Serial-specific style estimator block */\n\n#sk-container-id-1 div.sk-serial {\n  display: flex;\n  flex-direction: column;\n  align-items: center;\n  background-color: var(--sklearn-color-background);\n  padding-right: 1em;\n  padding-left: 1em;\n}\n\n\n/* Toggleable style: style used for estimator/Pipeline/ColumnTransformer box that is\nclickable and can be expanded/collapsed.\n- Pipeline and ColumnTransformer use this feature and define the default style\n- Estimators will overwrite some part of the style using the `sk-estimator` class\n*/\n\n/* Pipeline and ColumnTransformer style (default) */\n\n#sk-container-id-1 div.sk-toggleable {\n  /* Default theme specific background. It is overwritten whether we have a\n  specific estimator or a Pipeline/ColumnTransformer */\n  background-color: var(--sklearn-color-background);\n}\n\n/* Toggleable label */\n#sk-container-id-1 label.sk-toggleable__label {\n  cursor: pointer;\n  display: block;\n  width: 100%;\n  margin-bottom: 0;\n  padding: 0.5em;\n  box-sizing: border-box;\n  text-align: center;\n}\n\n#sk-container-id-1 label.sk-toggleable__label-arrow:before {\n  /* Arrow on the left of the label */\n  content: \"▸\";\n  float: left;\n  margin-right: 0.25em;\n  color: var(--sklearn-color-icon);\n}\n\n#sk-container-id-1 label.sk-toggleable__label-arrow:hover:before {\n  color: var(--sklearn-color-text);\n}\n\n/* Toggleable content - dropdown */\n\n#sk-container-id-1 div.sk-toggleable__content {\n  max-height: 0;\n  max-width: 0;\n  overflow: hidden;\n  text-align: left;\n  /* unfitted */\n  background-color: var(--sklearn-color-unfitted-level-0);\n}\n\n#sk-container-id-1 div.sk-toggleable__content.fitted {\n  /* fitted */\n  background-color: var(--sklearn-color-fitted-level-0);\n}\n\n#sk-container-id-1 div.sk-toggleable__content pre {\n  margin: 0.2em;\n  border-radius: 0.25em;\n  color: var(--sklearn-color-text);\n  /* unfitted */\n  background-color: var(--sklearn-color-unfitted-level-0);\n}\n\n#sk-container-id-1 div.sk-toggleable__content.fitted pre {\n  /* unfitted */\n  background-color: var(--sklearn-color-fitted-level-0);\n}\n\n#sk-container-id-1 input.sk-toggleable__control:checked~div.sk-toggleable__content {\n  /* Expand drop-down */\n  max-height: 200px;\n  max-width: 100%;\n  overflow: auto;\n}\n\n#sk-container-id-1 input.sk-toggleable__control:checked~label.sk-toggleable__label-arrow:before {\n  content: \"▾\";\n}\n\n/* Pipeline/ColumnTransformer-specific style */\n\n#sk-container-id-1 div.sk-label input.sk-toggleable__control:checked~label.sk-toggleable__label {\n  color: var(--sklearn-color-text);\n  background-color: var(--sklearn-color-unfitted-level-2);\n}\n\n#sk-container-id-1 div.sk-label.fitted input.sk-toggleable__control:checked~label.sk-toggleable__label {\n  background-color: var(--sklearn-color-fitted-level-2);\n}\n\n/* Estimator-specific style */\n\n/* Colorize estimator box */\n#sk-container-id-1 div.sk-estimator input.sk-toggleable__control:checked~label.sk-toggleable__label {\n  /* unfitted */\n  background-color: var(--sklearn-color-unfitted-level-2);\n}\n\n#sk-container-id-1 div.sk-estimator.fitted input.sk-toggleable__control:checked~label.sk-toggleable__label {\n  /* fitted */\n  background-color: var(--sklearn-color-fitted-level-2);\n}\n\n#sk-container-id-1 div.sk-label label.sk-toggleable__label,\n#sk-container-id-1 div.sk-label label {\n  /* The background is the default theme color */\n  color: var(--sklearn-color-text-on-default-background);\n}\n\n/* On hover, darken the color of the background */\n#sk-container-id-1 div.sk-label:hover label.sk-toggleable__label {\n  color: var(--sklearn-color-text);\n  background-color: var(--sklearn-color-unfitted-level-2);\n}\n\n/* Label box, darken color on hover, fitted */\n#sk-container-id-1 div.sk-label.fitted:hover label.sk-toggleable__label.fitted {\n  color: var(--sklearn-color-text);\n  background-color: var(--sklearn-color-fitted-level-2);\n}\n\n/* Estimator label */\n\n#sk-container-id-1 div.sk-label label {\n  font-family: monospace;\n  font-weight: bold;\n  display: inline-block;\n  line-height: 1.2em;\n}\n\n#sk-container-id-1 div.sk-label-container {\n  text-align: center;\n}\n\n/* Estimator-specific */\n#sk-container-id-1 div.sk-estimator {\n  font-family: monospace;\n  border: 1px dotted var(--sklearn-color-border-box);\n  border-radius: 0.25em;\n  box-sizing: border-box;\n  margin-bottom: 0.5em;\n  /* unfitted */\n  background-color: var(--sklearn-color-unfitted-level-0);\n}\n\n#sk-container-id-1 div.sk-estimator.fitted {\n  /* fitted */\n  background-color: var(--sklearn-color-fitted-level-0);\n}\n\n/* on hover */\n#sk-container-id-1 div.sk-estimator:hover {\n  /* unfitted */\n  background-color: var(--sklearn-color-unfitted-level-2);\n}\n\n#sk-container-id-1 div.sk-estimator.fitted:hover {\n  /* fitted */\n  background-color: var(--sklearn-color-fitted-level-2);\n}\n\n/* Specification for estimator info (e.g. \"i\" and \"?\") */\n\n/* Common style for \"i\" and \"?\" */\n\n.sk-estimator-doc-link,\na:link.sk-estimator-doc-link,\na:visited.sk-estimator-doc-link {\n  float: right;\n  font-size: smaller;\n  line-height: 1em;\n  font-family: monospace;\n  background-color: var(--sklearn-color-background);\n  border-radius: 1em;\n  height: 1em;\n  width: 1em;\n  text-decoration: none !important;\n  margin-left: 1ex;\n  /* unfitted */\n  border: var(--sklearn-color-unfitted-level-1) 1pt solid;\n  color: var(--sklearn-color-unfitted-level-1);\n}\n\n.sk-estimator-doc-link.fitted,\na:link.sk-estimator-doc-link.fitted,\na:visited.sk-estimator-doc-link.fitted {\n  /* fitted */\n  border: var(--sklearn-color-fitted-level-1) 1pt solid;\n  color: var(--sklearn-color-fitted-level-1);\n}\n\n/* On hover */\ndiv.sk-estimator:hover .sk-estimator-doc-link:hover,\n.sk-estimator-doc-link:hover,\ndiv.sk-label-container:hover .sk-estimator-doc-link:hover,\n.sk-estimator-doc-link:hover {\n  /* unfitted */\n  background-color: var(--sklearn-color-unfitted-level-3);\n  color: var(--sklearn-color-background);\n  text-decoration: none;\n}\n\ndiv.sk-estimator.fitted:hover .sk-estimator-doc-link.fitted:hover,\n.sk-estimator-doc-link.fitted:hover,\ndiv.sk-label-container:hover .sk-estimator-doc-link.fitted:hover,\n.sk-estimator-doc-link.fitted:hover {\n  /* fitted */\n  background-color: var(--sklearn-color-fitted-level-3);\n  color: var(--sklearn-color-background);\n  text-decoration: none;\n}\n\n/* Span, style for the box shown on hovering the info icon */\n.sk-estimator-doc-link span {\n  display: none;\n  z-index: 9999;\n  position: relative;\n  font-weight: normal;\n  right: .2ex;\n  padding: .5ex;\n  margin: .5ex;\n  width: min-content;\n  min-width: 20ex;\n  max-width: 50ex;\n  color: var(--sklearn-color-text);\n  box-shadow: 2pt 2pt 4pt #999;\n  /* unfitted */\n  background: var(--sklearn-color-unfitted-level-0);\n  border: .5pt solid var(--sklearn-color-unfitted-level-3);\n}\n\n.sk-estimator-doc-link.fitted span {\n  /* fitted */\n  background: var(--sklearn-color-fitted-level-0);\n  border: var(--sklearn-color-fitted-level-3);\n}\n\n.sk-estimator-doc-link:hover span {\n  display: block;\n}\n\n/* \"?\"-specific style due to the `<a>` HTML tag */\n\n#sk-container-id-1 a.estimator_doc_link {\n  float: right;\n  font-size: 1rem;\n  line-height: 1em;\n  font-family: monospace;\n  background-color: var(--sklearn-color-background);\n  border-radius: 1rem;\n  height: 1rem;\n  width: 1rem;\n  text-decoration: none;\n  /* unfitted */\n  color: var(--sklearn-color-unfitted-level-1);\n  border: var(--sklearn-color-unfitted-level-1) 1pt solid;\n}\n\n#sk-container-id-1 a.estimator_doc_link.fitted {\n  /* fitted */\n  border: var(--sklearn-color-fitted-level-1) 1pt solid;\n  color: var(--sklearn-color-fitted-level-1);\n}\n\n/* On hover */\n#sk-container-id-1 a.estimator_doc_link:hover {\n  /* unfitted */\n  background-color: var(--sklearn-color-unfitted-level-3);\n  color: var(--sklearn-color-background);\n  text-decoration: none;\n}\n\n#sk-container-id-1 a.estimator_doc_link.fitted:hover {\n  /* fitted */\n  background-color: var(--sklearn-color-fitted-level-3);\n}\n</style><div id=\"sk-container-id-1\" class=\"sk-top-container\"><div class=\"sk-text-repr-fallback\"><pre>KNeighborsClassifier(n_neighbors=3)</pre><b>In a Jupyter environment, please rerun this cell to show the HTML representation or trust the notebook. <br />On GitHub, the HTML representation is unable to render, please try loading this page with nbviewer.org.</b></div><div class=\"sk-container\" hidden><div class=\"sk-item\"><div class=\"sk-estimator fitted sk-toggleable\"><input class=\"sk-toggleable__control sk-hidden--visually\" id=\"sk-estimator-id-1\" type=\"checkbox\" checked><label for=\"sk-estimator-id-1\" class=\"sk-toggleable__label fitted sk-toggleable__label-arrow fitted\">&nbsp;&nbsp;KNeighborsClassifier<a class=\"sk-estimator-doc-link fitted\" rel=\"noreferrer\" target=\"_blank\" href=\"https://scikit-learn.org/1.4/modules/generated/sklearn.neighbors.KNeighborsClassifier.html\">?<span>Documentation for KNeighborsClassifier</span></a><span class=\"sk-estimator-doc-link fitted\">i<span>Fitted</span></span></label><div class=\"sk-toggleable__content fitted\"><pre>KNeighborsClassifier(n_neighbors=3)</pre></div> </div></div></div></div>"
     },
     "execution_count": 17,
     "metadata": {},
     "output_type": "execute_result"
    }
   ],
   "source": [
    "knn = KNeighborsClassifier(n_neighbors=3)\n",
    "knn.fit(x_train, y_train)"
   ],
   "metadata": {
    "collapsed": false
   },
   "id": "e6347359e279daad"
  },
  {
   "cell_type": "code",
   "execution_count": null,
   "outputs": [],
   "source": [
    "neigh = KNeighborsClassifier(n_neighbors=3)\n"
   ],
   "metadata": {
    "collapsed": false
   },
   "id": "ad053daf3aaf3adf"
  },
  {
   "cell_type": "code",
   "execution_count": 20,
   "outputs": [
    {
     "name": "stdout",
     "output_type": "stream",
     "text": [
      "Accuracy: 0.6331108639228773\n"
     ]
    }
   ],
   "source": [
    "y_pred = knn.predict(x_test)\n",
    "accuracy = accuracy_score(y_test, y_pred)\n",
    "print(\"Accuracy:\", accuracy)"
   ],
   "metadata": {
    "collapsed": false,
    "ExecuteTime": {
     "end_time": "2024-03-13T14:45:04.722747300Z",
     "start_time": "2024-03-13T14:45:04.167178400Z"
    }
   },
   "id": "578f3b1063b12e1a"
  },
  {
   "cell_type": "markdown",
   "source": [
    "## Hyperparameter Adjustment\n",
    "\n",
    "In the development of the k-Nearest Neighbors (kNN) model, the primary hyperparameter that was adjusted is the **number of neighbors ($k$)**. Adjusting $k$ is pivotal because it fundamentally influences the model's decision-making dynamics and its capability to generalize effectively to unseen data.\n",
    "\n",
    "### Adjusting K\n",
    "\n",
    "- Overfitting vs. Underfitting: Selecting a small $k$ can cause the model to overfit, interpreting noise in the training data as significant patterns. This results in excellent performance on the training data but poor performance on new, unseen data. Conversely, a large $k$ might lead the model to underfit, simplifying the model too much and missing important patterns, which similarly degrades performance on new data.\n",
    "- Balancing Bias and Variance: The aim of adjusting $k$ is to find an optimal balance between bias (error from overly simplistic assumptions in the learning algorithm) and variance (error from too much complexity in the learning algorithm), leading to a model that is neither too simple nor too complex but just right for making accurate predictions.\n",
    "\n",
    "## Measuring Quality Using F1 Score\n",
    "\n",
    "The F1 score, serving as a harmonic mean of precision and recall, is a crucial metric for evaluating a model's performance, particularly in scenarios with imbalanced datasets. It provides a balanced measure of a model's efficiency by combining precision and recall into a single metric.\n",
    "\n",
    "### Accuracy\n",
    "\n",
    "Accuracy, the most straightforward measure of performance, is calculated as the ratio of correct predictions to the total number of predictions. However, in the context of imbalanced datasets, accuracy can be misleading, as it might not accurately reflect the model's effectiveness in predicting minority class instances.\n",
    "\n",
    "### Precision\n",
    "\n",
    "Precision assesses the accuracy of positive predictions, defined as the ratio of true positives (correct positive predictions) to the total number of positive predictions made (comprising both true positives and false positives). A high precision indicates a model's low rate of false positive predictions, vital in applications where false positives carry a significant cost.\n",
    "\n",
    "### Recall (Sensitivity)\n",
    "\n",
    "Recall, or sensitivity, measures the model's capacity to identify all relevant instances within a dataset, calculated as the ratio of true positives to the actual number of positive instances (true positives plus false negatives). A high recall signifies a low rate of false negatives, essential in situations where failing to detect a positive instance is highly detrimental (e.g., medical diagnoses).\n",
    "\n",
    "### Why Use F1 Score\n",
    "\n",
    "The F1 score is particularly advantageous when requiring a balance between precision and recall in the presence of an uneven class distribution (imbalanced classes). It ensures a model does not excel in one metric at the detriment of the other, promoting a more comprehensive and equitable evaluation of the model's quality."
   ],
   "metadata": {
    "collapsed": false
   },
   "id": "4d323575161941b"
  },
  {
   "cell_type": "code",
   "execution_count": 29,
   "outputs": [],
   "source": [
    "k_values = [i for i in range (1,31)]\n",
    "performance = []\n",
    "\n",
    "scaler = StandardScaler()\n",
    "x_train_scaled = scaler.fit_transform(x_train)\n",
    "x_test_scaled = scaler.transform(x_test)\n",
    "\n",
    "for k in k_values:\n",
    "    knn = KNeighborsClassifier(n_neighbors=k)\n",
    "    knn.fit(x_train_scaled, y_train)\n",
    "    y_pred = knn.predict(x_test_scaled)\n",
    "    val_score = cross_val_score(knn, x_train_scaled, y_train, cv=5)\n",
    "    performance.append({\n",
    "        'k': k,\n",
    "        'accuracy': accuracy_score(y_test, y_pred),\n",
    "        'precision': precision_score(y_test, y_pred, average='macro', zero_division=0),\n",
    "        'recall': recall_score(y_test, y_pred, average='macro', zero_division=0),\n",
    "        'cross_val_mean_accuracy': np.mean(val_score),\n",
    "        'f1': f1_score(y_test, y_pred, average='macro', zero_division=0)\n",
    "    })\n",
    "\n",
    "    \n",
    "df = pd.DataFrame(performance)\n",
    "df.head(100)    \n",
    "    "
   ],
   "metadata": {
    "collapsed": false,
    "ExecuteTime": {
     "end_time": "2024-03-13T21:23:08.151665100Z",
     "start_time": "2024-03-13T21:12:47.652850100Z"
    }
   },
   "id": "36c70e498c800b8f"
  },
  {
   "cell_type": "code",
   "execution_count": 31,
   "outputs": [
    {
     "data": {
      "text/plain": "     k  accuracy  precision    recall  cross_val_mean_accuracy        f1\n0    1  0.616055   0.600346  0.586147                 0.610534  0.592518\n1    2  0.643307   0.582159  0.632858                 0.642483  0.586592\n2    3  0.633111   0.587094  0.594922                 0.638137  0.587060\n3    4  0.669262   0.635798  0.636958                 0.666399  0.627045\n4    5  0.669077   0.646138  0.618791                 0.663556  0.623072\n5    6  0.675380   0.644236  0.623181                 0.671899  0.622346\n6    7  0.679459   0.657824  0.619507                 0.673979  0.627971\n7    8  0.683723   0.665883  0.630961                 0.676678  0.636224\n8    9  0.685577   0.674880  0.626762                 0.677481  0.638736\n9   10  0.686318   0.678051  0.634045                 0.682425  0.643570\n10  11  0.687245   0.681244  0.628757                 0.682837  0.641732\n11  12  0.687245   0.680161  0.629635                 0.683681  0.641952\n12  13  0.688357   0.675516  0.623642                 0.683661  0.635676\n13  14  0.689284   0.679707  0.626231                 0.684856  0.638150\n14  15  0.693919   0.689008  0.628543                 0.684856  0.643400\n15  16  0.692065   0.683238  0.624439                 0.685947  0.638742\n16  17  0.692807   0.684294  0.620827                 0.686998  0.635630\n17  18  0.688543   0.678013  0.615365                 0.688481  0.629708\n18  19  0.692992   0.685602  0.618803                 0.688563  0.633944\n19  20  0.688914   0.677462  0.612226                 0.688893  0.626986\n20  21  0.691880   0.684307  0.613492                 0.688357  0.630401\n21  22  0.689655   0.680223  0.610170                 0.689490  0.626856\n22  23  0.691138   0.683862  0.611117                 0.688893  0.628994\n23  24  0.690953   0.684508  0.610390                 0.689635  0.628338\n24  25  0.691694   0.686502  0.610369                 0.689346  0.628862\n25  26  0.691509   0.683789  0.611199                 0.689552  0.628343\n26  27  0.692065   0.687395  0.614497                 0.689181  0.631980\n27  28  0.692621   0.689289  0.611342                 0.689676  0.630138\n28  29  0.691509   0.689662  0.609474                 0.689696  0.628814\n29  30  0.691324   0.690003  0.608563                 0.689223  0.628855",
      "text/html": "<div>\n<style scoped>\n    .dataframe tbody tr th:only-of-type {\n        vertical-align: middle;\n    }\n\n    .dataframe tbody tr th {\n        vertical-align: top;\n    }\n\n    .dataframe thead th {\n        text-align: right;\n    }\n</style>\n<table border=\"1\" class=\"dataframe\">\n  <thead>\n    <tr style=\"text-align: right;\">\n      <th></th>\n      <th>k</th>\n      <th>accuracy</th>\n      <th>precision</th>\n      <th>recall</th>\n      <th>cross_val_mean_accuracy</th>\n      <th>f1</th>\n    </tr>\n  </thead>\n  <tbody>\n    <tr>\n      <th>0</th>\n      <td>1</td>\n      <td>0.616055</td>\n      <td>0.600346</td>\n      <td>0.586147</td>\n      <td>0.610534</td>\n      <td>0.592518</td>\n    </tr>\n    <tr>\n      <th>1</th>\n      <td>2</td>\n      <td>0.643307</td>\n      <td>0.582159</td>\n      <td>0.632858</td>\n      <td>0.642483</td>\n      <td>0.586592</td>\n    </tr>\n    <tr>\n      <th>2</th>\n      <td>3</td>\n      <td>0.633111</td>\n      <td>0.587094</td>\n      <td>0.594922</td>\n      <td>0.638137</td>\n      <td>0.587060</td>\n    </tr>\n    <tr>\n      <th>3</th>\n      <td>4</td>\n      <td>0.669262</td>\n      <td>0.635798</td>\n      <td>0.636958</td>\n      <td>0.666399</td>\n      <td>0.627045</td>\n    </tr>\n    <tr>\n      <th>4</th>\n      <td>5</td>\n      <td>0.669077</td>\n      <td>0.646138</td>\n      <td>0.618791</td>\n      <td>0.663556</td>\n      <td>0.623072</td>\n    </tr>\n    <tr>\n      <th>5</th>\n      <td>6</td>\n      <td>0.675380</td>\n      <td>0.644236</td>\n      <td>0.623181</td>\n      <td>0.671899</td>\n      <td>0.622346</td>\n    </tr>\n    <tr>\n      <th>6</th>\n      <td>7</td>\n      <td>0.679459</td>\n      <td>0.657824</td>\n      <td>0.619507</td>\n      <td>0.673979</td>\n      <td>0.627971</td>\n    </tr>\n    <tr>\n      <th>7</th>\n      <td>8</td>\n      <td>0.683723</td>\n      <td>0.665883</td>\n      <td>0.630961</td>\n      <td>0.676678</td>\n      <td>0.636224</td>\n    </tr>\n    <tr>\n      <th>8</th>\n      <td>9</td>\n      <td>0.685577</td>\n      <td>0.674880</td>\n      <td>0.626762</td>\n      <td>0.677481</td>\n      <td>0.638736</td>\n    </tr>\n    <tr>\n      <th>9</th>\n      <td>10</td>\n      <td>0.686318</td>\n      <td>0.678051</td>\n      <td>0.634045</td>\n      <td>0.682425</td>\n      <td>0.643570</td>\n    </tr>\n    <tr>\n      <th>10</th>\n      <td>11</td>\n      <td>0.687245</td>\n      <td>0.681244</td>\n      <td>0.628757</td>\n      <td>0.682837</td>\n      <td>0.641732</td>\n    </tr>\n    <tr>\n      <th>11</th>\n      <td>12</td>\n      <td>0.687245</td>\n      <td>0.680161</td>\n      <td>0.629635</td>\n      <td>0.683681</td>\n      <td>0.641952</td>\n    </tr>\n    <tr>\n      <th>12</th>\n      <td>13</td>\n      <td>0.688357</td>\n      <td>0.675516</td>\n      <td>0.623642</td>\n      <td>0.683661</td>\n      <td>0.635676</td>\n    </tr>\n    <tr>\n      <th>13</th>\n      <td>14</td>\n      <td>0.689284</td>\n      <td>0.679707</td>\n      <td>0.626231</td>\n      <td>0.684856</td>\n      <td>0.638150</td>\n    </tr>\n    <tr>\n      <th>14</th>\n      <td>15</td>\n      <td>0.693919</td>\n      <td>0.689008</td>\n      <td>0.628543</td>\n      <td>0.684856</td>\n      <td>0.643400</td>\n    </tr>\n    <tr>\n      <th>15</th>\n      <td>16</td>\n      <td>0.692065</td>\n      <td>0.683238</td>\n      <td>0.624439</td>\n      <td>0.685947</td>\n      <td>0.638742</td>\n    </tr>\n    <tr>\n      <th>16</th>\n      <td>17</td>\n      <td>0.692807</td>\n      <td>0.684294</td>\n      <td>0.620827</td>\n      <td>0.686998</td>\n      <td>0.635630</td>\n    </tr>\n    <tr>\n      <th>17</th>\n      <td>18</td>\n      <td>0.688543</td>\n      <td>0.678013</td>\n      <td>0.615365</td>\n      <td>0.688481</td>\n      <td>0.629708</td>\n    </tr>\n    <tr>\n      <th>18</th>\n      <td>19</td>\n      <td>0.692992</td>\n      <td>0.685602</td>\n      <td>0.618803</td>\n      <td>0.688563</td>\n      <td>0.633944</td>\n    </tr>\n    <tr>\n      <th>19</th>\n      <td>20</td>\n      <td>0.688914</td>\n      <td>0.677462</td>\n      <td>0.612226</td>\n      <td>0.688893</td>\n      <td>0.626986</td>\n    </tr>\n    <tr>\n      <th>20</th>\n      <td>21</td>\n      <td>0.691880</td>\n      <td>0.684307</td>\n      <td>0.613492</td>\n      <td>0.688357</td>\n      <td>0.630401</td>\n    </tr>\n    <tr>\n      <th>21</th>\n      <td>22</td>\n      <td>0.689655</td>\n      <td>0.680223</td>\n      <td>0.610170</td>\n      <td>0.689490</td>\n      <td>0.626856</td>\n    </tr>\n    <tr>\n      <th>22</th>\n      <td>23</td>\n      <td>0.691138</td>\n      <td>0.683862</td>\n      <td>0.611117</td>\n      <td>0.688893</td>\n      <td>0.628994</td>\n    </tr>\n    <tr>\n      <th>23</th>\n      <td>24</td>\n      <td>0.690953</td>\n      <td>0.684508</td>\n      <td>0.610390</td>\n      <td>0.689635</td>\n      <td>0.628338</td>\n    </tr>\n    <tr>\n      <th>24</th>\n      <td>25</td>\n      <td>0.691694</td>\n      <td>0.686502</td>\n      <td>0.610369</td>\n      <td>0.689346</td>\n      <td>0.628862</td>\n    </tr>\n    <tr>\n      <th>25</th>\n      <td>26</td>\n      <td>0.691509</td>\n      <td>0.683789</td>\n      <td>0.611199</td>\n      <td>0.689552</td>\n      <td>0.628343</td>\n    </tr>\n    <tr>\n      <th>26</th>\n      <td>27</td>\n      <td>0.692065</td>\n      <td>0.687395</td>\n      <td>0.614497</td>\n      <td>0.689181</td>\n      <td>0.631980</td>\n    </tr>\n    <tr>\n      <th>27</th>\n      <td>28</td>\n      <td>0.692621</td>\n      <td>0.689289</td>\n      <td>0.611342</td>\n      <td>0.689676</td>\n      <td>0.630138</td>\n    </tr>\n    <tr>\n      <th>28</th>\n      <td>29</td>\n      <td>0.691509</td>\n      <td>0.689662</td>\n      <td>0.609474</td>\n      <td>0.689696</td>\n      <td>0.628814</td>\n    </tr>\n    <tr>\n      <th>29</th>\n      <td>30</td>\n      <td>0.691324</td>\n      <td>0.690003</td>\n      <td>0.608563</td>\n      <td>0.689223</td>\n      <td>0.628855</td>\n    </tr>\n  </tbody>\n</table>\n</div>"
     },
     "execution_count": 31,
     "metadata": {},
     "output_type": "execute_result"
    }
   ],
   "source": [],
   "metadata": {
    "collapsed": false,
    "ExecuteTime": {
     "end_time": "2024-03-13T21:26:03.155297800Z",
     "start_time": "2024-03-13T21:26:03.052645600Z"
    }
   },
   "id": "f46de39c07528776"
  },
  {
   "cell_type": "markdown",
   "source": [
    "## Hyperparameter Adjustment\n",
    "\n",
    "In the development of the k-Nearest Neighbors (kNN) model, the primary hyperparameter that was adjusted is the **number of neighbors ($k$)**. Adjusting $k$ is pivotal because it fundamentally influences the model's decision-making dynamics and its capability to generalize effectively to unseen data.\n",
    "\n",
    "### Adjusting K\n",
    "\n",
    "- Overfitting vs. Underfitting: Selecting a small $k$ can cause the model to overfit, interpreting noise in the training data as significant patterns. This results in excellent performance on the training data but poor performance on new, unseen data. Conversely, a large $k$ might lead the model to underfit, simplifying the model too much and missing important patterns, which similarly degrades performance on new data.\n",
    "- Balancing Bias and Variance: The aim of adjusting $k$ is to find an optimal balance between bias (error from overly simplistic assumptions in the learning algorithm) and variance (error from too much complexity in the learning algorithm), leading to a model that is neither too simple nor too complex but just right for making accurate predictions.\n",
    "\n",
    "## Measuring Quality Using F1 Score\n",
    "\n",
    "The F1 score, serving as a harmonic mean of precision and recall, is a crucial metric for evaluating a model's performance, particularly in scenarios with imbalanced datasets. It provides a balanced measure of a model's efficiency by combining precision and recall into a single metric.\n",
    "\n",
    "### Accuracy\n",
    "\n",
    "Accuracy, the most straightforward measure of performance, is calculated as the ratio of correct predictions to the total number of predictions. However, in the context of imbalanced datasets, accuracy can be misleading, as it might not accurately reflect the model's effectiveness in predicting minority class instances.\n",
    "\n",
    "### Precision\n",
    "\n",
    "Precision assesses the accuracy of positive predictions, defined as the ratio of true positives (correct positive predictions) to the total number of positive predictions made (comprising both true positives and false positives). A high precision indicates a model's low rate of false positive predictions, vital in applications where false positives carry a significant cost.\n",
    "\n",
    "### Recall (Sensitivity)\n",
    "\n",
    "Recall, or sensitivity, measures the model's capacity to identify all relevant instances within a dataset, calculated as the ratio of true positives to the actual number of positive instances (true positives plus false negatives). A high recall signifies a low rate of false negatives, essential in situations where failing to detect a positive instance is highly detrimental (e.g., medical diagnoses).\n",
    "\n",
    "### Why Use F1 Score\n",
    "\n",
    "The F1 score is particularly advantageous when requiring a balance between precision and recall in the presence of an uneven class distribution (imbalanced classes). It ensures a model does not excel in one metric at the detriment of the other, promoting a more comprehensive and equitable evaluation of the model's quality.\n"
   ],
   "metadata": {
    "collapsed": false
   },
   "id": "8bb1248b6996dbca"
  },
  {
   "cell_type": "code",
   "execution_count": null,
   "outputs": [],
   "source": [],
   "metadata": {
    "collapsed": false
   },
   "id": "79188b45c3adcc4c"
  }
 ],
 "metadata": {
  "kernelspec": {
   "display_name": "Python 3",
   "language": "python",
   "name": "python3"
  },
  "language_info": {
   "codemirror_mode": {
    "name": "ipython",
    "version": 2
   },
   "file_extension": ".py",
   "mimetype": "text/x-python",
   "name": "python",
   "nbconvert_exporter": "python",
   "pygments_lexer": "ipython2",
   "version": "2.7.6"
  }
 },
 "nbformat": 4,
 "nbformat_minor": 5
}
