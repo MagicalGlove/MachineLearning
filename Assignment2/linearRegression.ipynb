{
 "cells": [
  {
   "cell_type": "code",
   "execution_count": 16,
   "metadata": {
    "collapsed": true,
    "ExecuteTime": {
     "end_time": "2024-03-13T09:20:55.337005Z",
     "start_time": "2024-03-13T09:20:55.305343500Z"
    }
   },
   "outputs": [],
   "source": [
    "import pandas as pd\n",
    "import numpy as np\n",
    "from sklearn.model_selection import train_test_split, cross_val_score\n",
    "from sklearn.linear_model import LinearRegression\n",
    "from sklearn.metrics import mean_absolute_error, mean_squared_error, r2_score\n",
    "\n"
   ]
  },
  {
   "cell_type": "code",
   "execution_count": 96,
   "outputs": [],
   "source": [
    "data = pd.read_csv(r\"C:\\Users\\KRP\\Programming\\School\\AiCphBusiness\\MachineLearning\\Assignment2\\diamonds.csv\")\n",
    "data = pd.get_dummies(data, columns= [\"color\",\"clarity\", \"cut\"])\n",
    "y = data[\"price\"]\n",
    "x = data.drop([\"price\", \"Unnamed: 0\"], axis =1)\n",
    "x_train, x_test, y_train, y_test = train_test_split(x, y, test_size=0.3)\n"
   ],
   "metadata": {
    "collapsed": false,
    "ExecuteTime": {
     "end_time": "2024-03-13T10:26:20.663289600Z",
     "start_time": "2024-03-13T10:26:20.563291500Z"
    }
   }
  },
  {
   "cell_type": "markdown",
   "source": [
    "To Test the for over fitting, we can use cross validation. Overfitting is when the model is trained too well on the training dataset that it is not able predict datapoints outside of the training set. Cross validation includes resampling the training data set and splitting it into different portions. The model is then trained on the training set several times, excluding the validation sets. The model is then tested on the different cross validation sets to see if it statistically performs differently. "
   ],
   "metadata": {
    "collapsed": false
   }
  },
  {
   "cell_type": "code",
   "execution_count": 94,
   "outputs": [
    {
     "name": "stdout",
     "output_type": "stream",
     "text": [
      "CV Scores: [0.91858432 0.92105606 0.91808091 0.92015715 0.91717296]\n",
      "Average CV Score: 0.9190102806107013\n"
     ]
    }
   ],
   "source": [
    "\n",
    "lm = LinearRegression()\n",
    "# Perform 5-fold cross-validation\n",
    "cv_scores = cross_val_score(lm, x_train, y_train, cv=5,scoring= \"r2\")\n",
    "# Print cross-validation scores\n",
    "print(f\"CV Scores: {cv_scores}\")\n",
    "# Average CV score\n",
    "print(f\"Average CV Score: {np.mean(cv_scores)}\")"
   ],
   "metadata": {
    "collapsed": false,
    "ExecuteTime": {
     "end_time": "2024-03-13T10:25:05.493810Z",
     "start_time": "2024-03-13T10:25:05.285533800Z"
    }
   }
  },
  {
   "cell_type": "code",
   "execution_count": 95,
   "outputs": [
    {
     "name": "stdout",
     "output_type": "stream",
     "text": [
      "CV Scores: [  0.34224026   0.70010775   0.83186637 -14.25049522  -0.86365774]\n",
      "Average CV Score: -2.647987716317788\n"
     ]
    }
   ],
   "source": [
    "lm = LinearRegression()\n",
    "scores = cross_val_score(lm, x, y, cv=5, scoring='r2')\n",
    "\n",
    "# Print cross-validation scores\n",
    "print(f\"CV Scores: {scores}\")\n",
    "# Average CV score\n",
    "print(f\"Average CV Score: {np.mean(scores)}\")"
   ],
   "metadata": {
    "collapsed": false,
    "ExecuteTime": {
     "end_time": "2024-03-13T10:25:06.301976500Z",
     "start_time": "2024-03-13T10:25:06.004580700Z"
    }
   }
  },
  {
   "cell_type": "code",
   "execution_count": 22,
   "outputs": [
    {
     "name": "stdout",
     "output_type": "stream",
     "text": [
      "[  711.56570501  3197.40419579  1943.02948182 ... 10609.79287119\n",
      "  4105.70876126  1993.88821027]\n",
      "MAE: 734.2415163929631\n",
      "MSE: 1244765.4357158723\n",
      "RMSE: 1115.6905645006918\n",
      "R-squared: 0.9201866914388085\n"
     ]
    },
    {
     "name": "stderr",
     "output_type": "stream",
     "text": [
      "C:\\Users\\KRP\\Programming\\School\\AiCphBusiness\\.venv\\Lib\\site-packages\\sklearn\\metrics\\_regression.py:483: FutureWarning: 'squared' is deprecated in version 1.4 and will be removed in 1.6. To calculate the root mean squared error, use the function'root_mean_squared_error'.\n",
      "  warnings.warn(\n"
     ]
    }
   ],
   "source": [
    "y_pred = model.predict(x_test)\n",
    "\n",
    "print(y_pred)\n",
    "\n",
    "mae = mean_absolute_error(y_test, y_pred)\n",
    "mse = mean_squared_error(y_test, y_pred)\n",
    "rmse = mean_squared_error(y_test, y_pred, squared=False) \n",
    "r2 = r2_score(y_test, y_pred)\n",
    "\n",
    "print(f\"MAE: {mae}\")\n",
    "print(f\"MSE: {mse}\")\n",
    "print(f\"RMSE: {rmse}\")\n",
    "print(f\"R-squared: {r2}\")"
   ],
   "metadata": {
    "collapsed": false,
    "ExecuteTime": {
     "end_time": "2024-03-13T09:21:03.795060Z",
     "start_time": "2024-03-13T09:21:03.725237200Z"
    }
   }
  },
  {
   "cell_type": "markdown",
   "source": [
    "MAE tells you, on average, how much the predictions deviate from the actual values. An MAE of 734.24 suggests that, on average, the model's predictions are about 734 units away from the actual values. The interpretation of this number depends on the context of your problem and the scale of the target variable.\n",
    "\n",
    "MSE is the average of the squares of the errors. It's more sensitive to outliers than MAE because it squares the differences. Your MSE value is relatively large because it's influenced by the scale of your data and the squared differences.\n",
    "\n",
    "RMSE, which is the square root of MSE, is often more interpretable than MSE because it's in the same units as your target variable. An RMSE of 1,115.69 indicates the standard deviation of the prediction errors. Like the MAE, whether this is considered high or low depends on the scale of your target variable and the context of your problem.\n",
    "\n",
    "R-squared value of 0.92 is quite high, indicating that your model explains 92% of the variance in the target variable based on its inputs. This suggests that the model fits the data well and is capable of capturing most of the variability in the target variable with its predictions."
   ],
   "metadata": {
    "collapsed": false
   }
  },
  {
   "cell_type": "code",
   "execution_count": 25,
   "outputs": [
    {
     "name": "stdout",
     "output_type": "stream",
     "text": [
      "[8059.33067384  606.62346058 8567.48039848 ... 1739.45892698 2501.07703433\n",
      " 6787.8108665 ]\n",
      "MAE: 746.033190874007\n",
      "MSE: 1290541.9147450614\n",
      "RMSE: 1136.0202087749415\n",
      "R-squared: 0.9195976267987521\n"
     ]
    },
    {
     "name": "stderr",
     "output_type": "stream",
     "text": [
      "C:\\Users\\KRP\\Programming\\School\\AiCphBusiness\\.venv\\Lib\\site-packages\\sklearn\\metrics\\_regression.py:483: FutureWarning: 'squared' is deprecated in version 1.4 and will be removed in 1.6. To calculate the root mean squared error, use the function'root_mean_squared_error'.\n",
      "  warnings.warn(\n"
     ]
    }
   ],
   "source": [
    "y_pred = model.predict(x_train)\n",
    "\n",
    "print(y_pred)\n",
    "\n",
    "mae = mean_absolute_error(y_train, y_pred)\n",
    "mse = mean_squared_error(y_train, y_pred)\n",
    "rmse = mean_squared_error(y_train, y_pred, squared=False)\n",
    "r2 = r2_score(y_train, y_pred)\n",
    "\n",
    "print(f\"MAE: {mae}\")\n",
    "print(f\"MSE: {mse}\")\n",
    "print(f\"RMSE: {rmse}\")\n",
    "print(f\"R-squared: {r2}\")"
   ],
   "metadata": {
    "collapsed": false,
    "ExecuteTime": {
     "end_time": "2024-03-13T09:23:59.929163700Z",
     "start_time": "2024-03-13T09:23:59.896915Z"
    }
   }
  },
  {
   "cell_type": "code",
   "execution_count": null,
   "outputs": [],
   "source": [],
   "metadata": {
    "collapsed": false
   }
  }
 ],
 "metadata": {
  "kernelspec": {
   "display_name": "Python 3",
   "language": "python",
   "name": "python3"
  },
  "language_info": {
   "codemirror_mode": {
    "name": "ipython",
    "version": 2
   },
   "file_extension": ".py",
   "mimetype": "text/x-python",
   "name": "python",
   "nbconvert_exporter": "python",
   "pygments_lexer": "ipython2",
   "version": "2.7.6"
  }
 },
 "nbformat": 4,
 "nbformat_minor": 0
}
