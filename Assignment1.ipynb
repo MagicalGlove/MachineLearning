{
 "cells": [
  {
   "cell_type": "code",
   "execution_count": 3,
   "id": "initial_id",
   "metadata": {
    "collapsed": true,
    "ExecuteTime": {
     "end_time": "2024-02-19T09:54:36.427796600Z",
     "start_time": "2024-02-19T09:54:36.369190700Z"
    }
   },
   "outputs": [],
   "source": [
    "import seaborn as sns\n",
    "import pandas as pd"
   ]
  },
  {
   "cell_type": "code",
   "execution_count": 4,
   "outputs": [
    {
     "data": {
      "text/plain": "                              pickup                        dropoff  \\\ncount                           6433                           6433   \nmean   2019-03-16 08:31:28.514223616  2019-03-16 08:45:49.491217408   \nmin              2019-02-28 23:29:03            2019-02-28 23:32:35   \n25%              2019-03-08 15:50:34            2019-03-08 16:12:51   \n50%              2019-03-15 21:46:58            2019-03-15 22:06:44   \n75%              2019-03-23 17:41:38            2019-03-23 17:51:56   \nmax              2019-03-31 23:43:45            2019-04-01 00:13:58   \nstd                              NaN                            NaN   \n\n        passengers     distance         fare         tip        tolls  \\\ncount  6433.000000  6433.000000  6433.000000  6433.00000  6433.000000   \nmean      1.539251     3.024617    13.091073     1.97922     0.325273   \nmin       0.000000     0.000000     1.000000     0.00000     0.000000   \n25%       1.000000     0.980000     6.500000     0.00000     0.000000   \n50%       1.000000     1.640000     9.500000     1.70000     0.000000   \n75%       2.000000     3.210000    15.000000     2.80000     0.000000   \nmax       6.000000    36.700000   150.000000    33.20000    24.020000   \nstd       1.203768     3.827867    11.551804     2.44856     1.415267   \n\n             total  \ncount  6433.000000  \nmean     18.517794  \nmin       1.300000  \n25%      10.800000  \n50%      14.160000  \n75%      20.300000  \nmax     174.820000  \nstd      13.815570  ",
      "text/html": "<div>\n<style scoped>\n    .dataframe tbody tr th:only-of-type {\n        vertical-align: middle;\n    }\n\n    .dataframe tbody tr th {\n        vertical-align: top;\n    }\n\n    .dataframe thead th {\n        text-align: right;\n    }\n</style>\n<table border=\"1\" class=\"dataframe\">\n  <thead>\n    <tr style=\"text-align: right;\">\n      <th></th>\n      <th>pickup</th>\n      <th>dropoff</th>\n      <th>passengers</th>\n      <th>distance</th>\n      <th>fare</th>\n      <th>tip</th>\n      <th>tolls</th>\n      <th>total</th>\n    </tr>\n  </thead>\n  <tbody>\n    <tr>\n      <th>count</th>\n      <td>6433</td>\n      <td>6433</td>\n      <td>6433.000000</td>\n      <td>6433.000000</td>\n      <td>6433.000000</td>\n      <td>6433.00000</td>\n      <td>6433.000000</td>\n      <td>6433.000000</td>\n    </tr>\n    <tr>\n      <th>mean</th>\n      <td>2019-03-16 08:31:28.514223616</td>\n      <td>2019-03-16 08:45:49.491217408</td>\n      <td>1.539251</td>\n      <td>3.024617</td>\n      <td>13.091073</td>\n      <td>1.97922</td>\n      <td>0.325273</td>\n      <td>18.517794</td>\n    </tr>\n    <tr>\n      <th>min</th>\n      <td>2019-02-28 23:29:03</td>\n      <td>2019-02-28 23:32:35</td>\n      <td>0.000000</td>\n      <td>0.000000</td>\n      <td>1.000000</td>\n      <td>0.00000</td>\n      <td>0.000000</td>\n      <td>1.300000</td>\n    </tr>\n    <tr>\n      <th>25%</th>\n      <td>2019-03-08 15:50:34</td>\n      <td>2019-03-08 16:12:51</td>\n      <td>1.000000</td>\n      <td>0.980000</td>\n      <td>6.500000</td>\n      <td>0.00000</td>\n      <td>0.000000</td>\n      <td>10.800000</td>\n    </tr>\n    <tr>\n      <th>50%</th>\n      <td>2019-03-15 21:46:58</td>\n      <td>2019-03-15 22:06:44</td>\n      <td>1.000000</td>\n      <td>1.640000</td>\n      <td>9.500000</td>\n      <td>1.70000</td>\n      <td>0.000000</td>\n      <td>14.160000</td>\n    </tr>\n    <tr>\n      <th>75%</th>\n      <td>2019-03-23 17:41:38</td>\n      <td>2019-03-23 17:51:56</td>\n      <td>2.000000</td>\n      <td>3.210000</td>\n      <td>15.000000</td>\n      <td>2.80000</td>\n      <td>0.000000</td>\n      <td>20.300000</td>\n    </tr>\n    <tr>\n      <th>max</th>\n      <td>2019-03-31 23:43:45</td>\n      <td>2019-04-01 00:13:58</td>\n      <td>6.000000</td>\n      <td>36.700000</td>\n      <td>150.000000</td>\n      <td>33.20000</td>\n      <td>24.020000</td>\n      <td>174.820000</td>\n    </tr>\n    <tr>\n      <th>std</th>\n      <td>NaN</td>\n      <td>NaN</td>\n      <td>1.203768</td>\n      <td>3.827867</td>\n      <td>11.551804</td>\n      <td>2.44856</td>\n      <td>1.415267</td>\n      <td>13.815570</td>\n    </tr>\n  </tbody>\n</table>\n</div>"
     },
     "execution_count": 4,
     "metadata": {},
     "output_type": "execute_result"
    }
   ],
   "source": [
    "data = sns.load_dataset(\"taxis\")\n",
    "data.describe()"
   ],
   "metadata": {
    "collapsed": false,
    "ExecuteTime": {
     "end_time": "2024-02-19T09:54:37.495847700Z",
     "start_time": "2024-02-19T09:54:37.139049700Z"
    }
   },
   "id": "aff678e0b1e8e087"
  },
  {
   "cell_type": "markdown",
   "source": [
    "## TASK 1"
   ],
   "metadata": {
    "collapsed": false
   },
   "id": "54c39fc3cb944230"
  },
  {
   "cell_type": "markdown",
   "source": [
    "# Find and download a dataset"
   ],
   "metadata": {
    "collapsed": false
   },
   "id": "ad6390a32b5f2e3a"
  },
  {
   "cell_type": "code",
   "execution_count": 5,
   "outputs": [
    {
     "data": {
      "text/plain": "                pickup             dropoff  passengers  distance  fare   tip  \\\n0  2019-03-23 20:21:09 2019-03-23 20:27:24           1      1.60   7.0  2.15   \n1  2019-03-04 16:11:55 2019-03-04 16:19:00           1      0.79   5.0  0.00   \n2  2019-03-27 17:53:01 2019-03-27 18:00:25           1      1.37   7.5  2.36   \n3  2019-03-10 01:23:59 2019-03-10 01:49:51           1      7.70  27.0  6.15   \n4  2019-03-30 13:27:42 2019-03-30 13:37:14           3      2.16   9.0  1.10   \n..                 ...                 ...         ...       ...   ...   ...   \n95 2019-03-28 21:30:43 2019-03-28 21:42:10           1      1.60   9.0  2.55   \n96 2019-03-13 16:11:26 2019-03-13 16:28:42           1      3.21  13.5  0.00   \n97 2019-03-04 22:34:00 2019-03-04 22:41:34           1      1.30   7.5  0.50   \n98 2019-03-08 19:10:16 2019-03-08 19:18:32           2      0.90   7.0  0.00   \n99 2019-03-02 10:47:45 2019-03-02 10:56:08           3      0.95   7.5  2.16   \n\n    tolls  total   color      payment                   pickup_zone  \\\n0     0.0  12.95  yellow  credit card               Lenox Hill West   \n1     0.0   9.30  yellow         cash         Upper West Side South   \n2     0.0  14.16  yellow  credit card                 Alphabet City   \n3     0.0  36.95  yellow  credit card                     Hudson Sq   \n4     0.0  13.40  yellow  credit card                  Midtown East   \n..    ...    ...     ...          ...                           ...   \n95    0.0  15.35  yellow  credit card  Penn Station/Madison Sq West   \n96    0.0  17.80  yellow         cash      Financial District South   \n97    0.0  11.80  yellow  credit card                Midtown Center   \n98    0.0  11.30  yellow         cash                 Midtown North   \n99    0.0  12.96  yellow  credit card                  West Village   \n\n                      dropoff_zone pickup_borough dropoff_borough  \n0              UN/Turtle Bay South      Manhattan       Manhattan  \n1            Upper West Side South      Manhattan       Manhattan  \n2                     West Village      Manhattan       Manhattan  \n3                   Yorkville West      Manhattan       Manhattan  \n4                   Yorkville West      Manhattan       Manhattan  \n..                             ...            ...             ...  \n95  Stuy Town/Peter Cooper Village      Manhattan       Manhattan  \n96     Downtown Brooklyn/MetroTech      Manhattan        Brooklyn  \n97           Upper East Side South      Manhattan       Manhattan  \n98       Times Sq/Theatre District      Manhattan       Manhattan  \n99                        Flatiron      Manhattan       Manhattan  \n\n[100 rows x 14 columns]",
      "text/html": "<div>\n<style scoped>\n    .dataframe tbody tr th:only-of-type {\n        vertical-align: middle;\n    }\n\n    .dataframe tbody tr th {\n        vertical-align: top;\n    }\n\n    .dataframe thead th {\n        text-align: right;\n    }\n</style>\n<table border=\"1\" class=\"dataframe\">\n  <thead>\n    <tr style=\"text-align: right;\">\n      <th></th>\n      <th>pickup</th>\n      <th>dropoff</th>\n      <th>passengers</th>\n      <th>distance</th>\n      <th>fare</th>\n      <th>tip</th>\n      <th>tolls</th>\n      <th>total</th>\n      <th>color</th>\n      <th>payment</th>\n      <th>pickup_zone</th>\n      <th>dropoff_zone</th>\n      <th>pickup_borough</th>\n      <th>dropoff_borough</th>\n    </tr>\n  </thead>\n  <tbody>\n    <tr>\n      <th>0</th>\n      <td>2019-03-23 20:21:09</td>\n      <td>2019-03-23 20:27:24</td>\n      <td>1</td>\n      <td>1.60</td>\n      <td>7.0</td>\n      <td>2.15</td>\n      <td>0.0</td>\n      <td>12.95</td>\n      <td>yellow</td>\n      <td>credit card</td>\n      <td>Lenox Hill West</td>\n      <td>UN/Turtle Bay South</td>\n      <td>Manhattan</td>\n      <td>Manhattan</td>\n    </tr>\n    <tr>\n      <th>1</th>\n      <td>2019-03-04 16:11:55</td>\n      <td>2019-03-04 16:19:00</td>\n      <td>1</td>\n      <td>0.79</td>\n      <td>5.0</td>\n      <td>0.00</td>\n      <td>0.0</td>\n      <td>9.30</td>\n      <td>yellow</td>\n      <td>cash</td>\n      <td>Upper West Side South</td>\n      <td>Upper West Side South</td>\n      <td>Manhattan</td>\n      <td>Manhattan</td>\n    </tr>\n    <tr>\n      <th>2</th>\n      <td>2019-03-27 17:53:01</td>\n      <td>2019-03-27 18:00:25</td>\n      <td>1</td>\n      <td>1.37</td>\n      <td>7.5</td>\n      <td>2.36</td>\n      <td>0.0</td>\n      <td>14.16</td>\n      <td>yellow</td>\n      <td>credit card</td>\n      <td>Alphabet City</td>\n      <td>West Village</td>\n      <td>Manhattan</td>\n      <td>Manhattan</td>\n    </tr>\n    <tr>\n      <th>3</th>\n      <td>2019-03-10 01:23:59</td>\n      <td>2019-03-10 01:49:51</td>\n      <td>1</td>\n      <td>7.70</td>\n      <td>27.0</td>\n      <td>6.15</td>\n      <td>0.0</td>\n      <td>36.95</td>\n      <td>yellow</td>\n      <td>credit card</td>\n      <td>Hudson Sq</td>\n      <td>Yorkville West</td>\n      <td>Manhattan</td>\n      <td>Manhattan</td>\n    </tr>\n    <tr>\n      <th>4</th>\n      <td>2019-03-30 13:27:42</td>\n      <td>2019-03-30 13:37:14</td>\n      <td>3</td>\n      <td>2.16</td>\n      <td>9.0</td>\n      <td>1.10</td>\n      <td>0.0</td>\n      <td>13.40</td>\n      <td>yellow</td>\n      <td>credit card</td>\n      <td>Midtown East</td>\n      <td>Yorkville West</td>\n      <td>Manhattan</td>\n      <td>Manhattan</td>\n    </tr>\n    <tr>\n      <th>...</th>\n      <td>...</td>\n      <td>...</td>\n      <td>...</td>\n      <td>...</td>\n      <td>...</td>\n      <td>...</td>\n      <td>...</td>\n      <td>...</td>\n      <td>...</td>\n      <td>...</td>\n      <td>...</td>\n      <td>...</td>\n      <td>...</td>\n      <td>...</td>\n    </tr>\n    <tr>\n      <th>95</th>\n      <td>2019-03-28 21:30:43</td>\n      <td>2019-03-28 21:42:10</td>\n      <td>1</td>\n      <td>1.60</td>\n      <td>9.0</td>\n      <td>2.55</td>\n      <td>0.0</td>\n      <td>15.35</td>\n      <td>yellow</td>\n      <td>credit card</td>\n      <td>Penn Station/Madison Sq West</td>\n      <td>Stuy Town/Peter Cooper Village</td>\n      <td>Manhattan</td>\n      <td>Manhattan</td>\n    </tr>\n    <tr>\n      <th>96</th>\n      <td>2019-03-13 16:11:26</td>\n      <td>2019-03-13 16:28:42</td>\n      <td>1</td>\n      <td>3.21</td>\n      <td>13.5</td>\n      <td>0.00</td>\n      <td>0.0</td>\n      <td>17.80</td>\n      <td>yellow</td>\n      <td>cash</td>\n      <td>Financial District South</td>\n      <td>Downtown Brooklyn/MetroTech</td>\n      <td>Manhattan</td>\n      <td>Brooklyn</td>\n    </tr>\n    <tr>\n      <th>97</th>\n      <td>2019-03-04 22:34:00</td>\n      <td>2019-03-04 22:41:34</td>\n      <td>1</td>\n      <td>1.30</td>\n      <td>7.5</td>\n      <td>0.50</td>\n      <td>0.0</td>\n      <td>11.80</td>\n      <td>yellow</td>\n      <td>credit card</td>\n      <td>Midtown Center</td>\n      <td>Upper East Side South</td>\n      <td>Manhattan</td>\n      <td>Manhattan</td>\n    </tr>\n    <tr>\n      <th>98</th>\n      <td>2019-03-08 19:10:16</td>\n      <td>2019-03-08 19:18:32</td>\n      <td>2</td>\n      <td>0.90</td>\n      <td>7.0</td>\n      <td>0.00</td>\n      <td>0.0</td>\n      <td>11.30</td>\n      <td>yellow</td>\n      <td>cash</td>\n      <td>Midtown North</td>\n      <td>Times Sq/Theatre District</td>\n      <td>Manhattan</td>\n      <td>Manhattan</td>\n    </tr>\n    <tr>\n      <th>99</th>\n      <td>2019-03-02 10:47:45</td>\n      <td>2019-03-02 10:56:08</td>\n      <td>3</td>\n      <td>0.95</td>\n      <td>7.5</td>\n      <td>2.16</td>\n      <td>0.0</td>\n      <td>12.96</td>\n      <td>yellow</td>\n      <td>credit card</td>\n      <td>West Village</td>\n      <td>Flatiron</td>\n      <td>Manhattan</td>\n      <td>Manhattan</td>\n    </tr>\n  </tbody>\n</table>\n<p>100 rows × 14 columns</p>\n</div>"
     },
     "execution_count": 5,
     "metadata": {},
     "output_type": "execute_result"
    }
   ],
   "source": [
    "data.head(100)\n"
   ],
   "metadata": {
    "collapsed": false,
    "ExecuteTime": {
     "end_time": "2024-02-19T09:54:42.038956900Z",
     "start_time": "2024-02-19T09:54:41.957361Z"
    }
   },
   "id": "c664b99ce3deff68"
  },
  {
   "cell_type": "code",
   "execution_count": 6,
   "outputs": [
    {
     "data": {
      "text/plain": "                              pickup                        dropoff  \\\ncount                           6433                           6433   \nmean   2019-03-16 08:31:28.514223616  2019-03-16 08:45:49.491217408   \nmin              2019-02-28 23:29:03            2019-02-28 23:32:35   \n25%              2019-03-08 15:50:34            2019-03-08 16:12:51   \n50%              2019-03-15 21:46:58            2019-03-15 22:06:44   \n75%              2019-03-23 17:41:38            2019-03-23 17:51:56   \nmax              2019-03-31 23:43:45            2019-04-01 00:13:58   \nstd                              NaN                            NaN   \n\n        passengers     distance         fare         tip        tolls  \\\ncount  6433.000000  6433.000000  6433.000000  6433.00000  6433.000000   \nmean      1.539251     3.024617    13.091073     1.97922     0.325273   \nmin       0.000000     0.000000     1.000000     0.00000     0.000000   \n25%       1.000000     0.980000     6.500000     0.00000     0.000000   \n50%       1.000000     1.640000     9.500000     1.70000     0.000000   \n75%       2.000000     3.210000    15.000000     2.80000     0.000000   \nmax       6.000000    36.700000   150.000000    33.20000    24.020000   \nstd       1.203768     3.827867    11.551804     2.44856     1.415267   \n\n             total  \ncount  6433.000000  \nmean     18.517794  \nmin       1.300000  \n25%      10.800000  \n50%      14.160000  \n75%      20.300000  \nmax     174.820000  \nstd      13.815570  ",
      "text/html": "<div>\n<style scoped>\n    .dataframe tbody tr th:only-of-type {\n        vertical-align: middle;\n    }\n\n    .dataframe tbody tr th {\n        vertical-align: top;\n    }\n\n    .dataframe thead th {\n        text-align: right;\n    }\n</style>\n<table border=\"1\" class=\"dataframe\">\n  <thead>\n    <tr style=\"text-align: right;\">\n      <th></th>\n      <th>pickup</th>\n      <th>dropoff</th>\n      <th>passengers</th>\n      <th>distance</th>\n      <th>fare</th>\n      <th>tip</th>\n      <th>tolls</th>\n      <th>total</th>\n    </tr>\n  </thead>\n  <tbody>\n    <tr>\n      <th>count</th>\n      <td>6433</td>\n      <td>6433</td>\n      <td>6433.000000</td>\n      <td>6433.000000</td>\n      <td>6433.000000</td>\n      <td>6433.00000</td>\n      <td>6433.000000</td>\n      <td>6433.000000</td>\n    </tr>\n    <tr>\n      <th>mean</th>\n      <td>2019-03-16 08:31:28.514223616</td>\n      <td>2019-03-16 08:45:49.491217408</td>\n      <td>1.539251</td>\n      <td>3.024617</td>\n      <td>13.091073</td>\n      <td>1.97922</td>\n      <td>0.325273</td>\n      <td>18.517794</td>\n    </tr>\n    <tr>\n      <th>min</th>\n      <td>2019-02-28 23:29:03</td>\n      <td>2019-02-28 23:32:35</td>\n      <td>0.000000</td>\n      <td>0.000000</td>\n      <td>1.000000</td>\n      <td>0.00000</td>\n      <td>0.000000</td>\n      <td>1.300000</td>\n    </tr>\n    <tr>\n      <th>25%</th>\n      <td>2019-03-08 15:50:34</td>\n      <td>2019-03-08 16:12:51</td>\n      <td>1.000000</td>\n      <td>0.980000</td>\n      <td>6.500000</td>\n      <td>0.00000</td>\n      <td>0.000000</td>\n      <td>10.800000</td>\n    </tr>\n    <tr>\n      <th>50%</th>\n      <td>2019-03-15 21:46:58</td>\n      <td>2019-03-15 22:06:44</td>\n      <td>1.000000</td>\n      <td>1.640000</td>\n      <td>9.500000</td>\n      <td>1.70000</td>\n      <td>0.000000</td>\n      <td>14.160000</td>\n    </tr>\n    <tr>\n      <th>75%</th>\n      <td>2019-03-23 17:41:38</td>\n      <td>2019-03-23 17:51:56</td>\n      <td>2.000000</td>\n      <td>3.210000</td>\n      <td>15.000000</td>\n      <td>2.80000</td>\n      <td>0.000000</td>\n      <td>20.300000</td>\n    </tr>\n    <tr>\n      <th>max</th>\n      <td>2019-03-31 23:43:45</td>\n      <td>2019-04-01 00:13:58</td>\n      <td>6.000000</td>\n      <td>36.700000</td>\n      <td>150.000000</td>\n      <td>33.20000</td>\n      <td>24.020000</td>\n      <td>174.820000</td>\n    </tr>\n    <tr>\n      <th>std</th>\n      <td>NaN</td>\n      <td>NaN</td>\n      <td>1.203768</td>\n      <td>3.827867</td>\n      <td>11.551804</td>\n      <td>2.44856</td>\n      <td>1.415267</td>\n      <td>13.815570</td>\n    </tr>\n  </tbody>\n</table>\n</div>"
     },
     "execution_count": 6,
     "metadata": {},
     "output_type": "execute_result"
    }
   ],
   "source": [
    "data.describe()"
   ],
   "metadata": {
    "collapsed": false,
    "ExecuteTime": {
     "end_time": "2024-02-19T09:54:45.033542600Z",
     "start_time": "2024-02-19T09:54:44.844150700Z"
    }
   },
   "id": "5f432aa1874a8e68"
  },
  {
   "cell_type": "code",
   "execution_count": 21,
   "outputs": [
    {
     "name": "stdout",
     "output_type": "stream",
     "text": [
      "<class 'pandas.core.frame.DataFrame'>\n",
      "RangeIndex: 6433 entries, 0 to 6432\n",
      "Data columns (total 14 columns):\n",
      " #   Column           Non-Null Count  Dtype         \n",
      "---  ------           --------------  -----         \n",
      " 0   pickup           6433 non-null   datetime64[ns]\n",
      " 1   dropoff          6433 non-null   datetime64[ns]\n",
      " 2   passengers       6433 non-null   int64         \n",
      " 3   distance         6433 non-null   float64       \n",
      " 4   fare             6433 non-null   float64       \n",
      " 5   tip              6433 non-null   float64       \n",
      " 6   tolls            6433 non-null   float64       \n",
      " 7   total            6433 non-null   float64       \n",
      " 8   color            6433 non-null   object        \n",
      " 9   payment          6389 non-null   object        \n",
      " 10  pickup_zone      6407 non-null   object        \n",
      " 11  dropoff_zone     6388 non-null   object        \n",
      " 12  pickup_borough   6407 non-null   object        \n",
      " 13  dropoff_borough  6388 non-null   object        \n",
      "dtypes: datetime64[ns](2), float64(5), int64(1), object(6)\n",
      "memory usage: 703.7+ KB\n"
     ]
    }
   ],
   "source": [
    "data.info()"
   ],
   "metadata": {
    "collapsed": false,
    "ExecuteTime": {
     "end_time": "2024-02-12T10:36:52.703165700Z",
     "start_time": "2024-02-12T10:36:52.656459500Z"
    }
   },
   "id": "21fef4968e228d9f"
  },
  {
   "cell_type": "markdown",
   "source": [
    "### 1.c Data Cleaning\n",
    "\n",
    "idetify missing columns"
   ],
   "metadata": {
    "collapsed": false
   },
   "id": "a1bb95d8e89e72e"
  },
  {
   "cell_type": "code",
   "execution_count": 16,
   "outputs": [
    {
     "name": "stdout",
     "output_type": "stream",
     "text": [
      "<class 'pandas.core.frame.DataFrame'>\n",
      "RangeIndex: 6433 entries, 0 to 6432\n",
      "Data columns (total 14 columns):\n",
      " #   Column           Non-Null Count  Dtype         \n",
      "---  ------           --------------  -----         \n",
      " 0   pickup           6433 non-null   datetime64[ns]\n",
      " 1   dropoff          6433 non-null   datetime64[ns]\n",
      " 2   passengers       6433 non-null   int64         \n",
      " 3   distance         6433 non-null   float64       \n",
      " 4   fare             6433 non-null   float64       \n",
      " 5   tip              6433 non-null   float64       \n",
      " 6   tolls            6433 non-null   float64       \n",
      " 7   total            6433 non-null   float64       \n",
      " 8   color            6433 non-null   object        \n",
      " 9   payment          6389 non-null   object        \n",
      " 10  pickup_zone      6407 non-null   object        \n",
      " 11  dropoff_zone     6388 non-null   object        \n",
      " 12  pickup_borough   6407 non-null   object        \n",
      " 13  dropoff_borough  6388 non-null   object        \n",
      "dtypes: datetime64[ns](2), float64(5), int64(1), object(6)\n",
      "memory usage: 703.7+ KB\n"
     ]
    }
   ],
   "source": [
    "data.info()"
   ],
   "metadata": {
    "collapsed": false,
    "ExecuteTime": {
     "end_time": "2024-02-12T10:28:17.222935300Z",
     "start_time": "2024-02-12T10:28:17.199881300Z"
    }
   },
   "id": "26e713cf5a8abd02"
  },
  {
   "cell_type": "code",
   "execution_count": null,
   "outputs": [],
   "source": [
    "data = sns.load_dataset(\"taxis\")\n",
    "data [\"payment\"] = data[\"payment\"].fillna(\"credit card\")\n",
    "data = data.loc[data[\"passengers\"]>0]\n",
    "data.dropna()\n",
    "data.head(10000)"
   ],
   "metadata": {
    "collapsed": false,
    "is_executing": true
   },
   "id": "1f8b30e196f6f169"
  },
  {
   "cell_type": "code",
   "execution_count": 66,
   "outputs": [],
   "source": [],
   "metadata": {
    "collapsed": false,
    "ExecuteTime": {
     "end_time": "2024-02-12T11:53:34.163126600Z",
     "start_time": "2024-02-12T11:53:34.133101800Z"
    }
   },
   "id": "1d366f12be431f7b"
  },
  {
   "cell_type": "code",
   "execution_count": 69,
   "outputs": [],
   "source": [],
   "metadata": {
    "collapsed": false,
    "ExecuteTime": {
     "end_time": "2024-02-12T11:53:52.306315700Z",
     "start_time": "2024-02-12T11:53:52.281014400Z"
    }
   },
   "id": "7e50df2584e5bbed"
  },
  {
   "cell_type": "code",
   "execution_count": 70,
   "outputs": [
    {
     "name": "stdout",
     "output_type": "stream",
     "text": [
      "<class 'pandas.core.frame.DataFrame'>\n",
      "Index: 6337 entries, 0 to 6432\n",
      "Data columns (total 14 columns):\n",
      " #   Column           Non-Null Count  Dtype         \n",
      "---  ------           --------------  -----         \n",
      " 0   pickup           6337 non-null   datetime64[ns]\n",
      " 1   dropoff          6337 non-null   datetime64[ns]\n",
      " 2   passengers       6337 non-null   int64         \n",
      " 3   distance         6337 non-null   float64       \n",
      " 4   fare             6337 non-null   float64       \n",
      " 5   tip              6337 non-null   float64       \n",
      " 6   tolls            6337 non-null   float64       \n",
      " 7   total            6337 non-null   float64       \n",
      " 8   color            6337 non-null   object        \n",
      " 9   payment          6337 non-null   object        \n",
      " 10  pickup_zone      6311 non-null   object        \n",
      " 11  dropoff_zone     6292 non-null   object        \n",
      " 12  pickup_borough   6311 non-null   object        \n",
      " 13  dropoff_borough  6292 non-null   object        \n",
      "dtypes: datetime64[ns](2), float64(5), int64(1), object(6)\n",
      "memory usage: 742.6+ KB\n"
     ]
    }
   ],
   "source": [
    "data.info()"
   ],
   "metadata": {
    "collapsed": false,
    "ExecuteTime": {
     "end_time": "2024-02-12T11:53:57.353715900Z",
     "start_time": "2024-02-12T11:53:57.109330800Z"
    }
   },
   "id": "73ab4cd9c5d349f6"
  },
  {
   "cell_type": "code",
   "execution_count": null,
   "outputs": [],
   "source": [],
   "metadata": {
    "collapsed": false
   },
   "id": "b3fe573b3238f0e8"
  }
 ],
 "metadata": {
  "kernelspec": {
   "display_name": "Python 3",
   "language": "python",
   "name": "python3"
  },
  "language_info": {
   "codemirror_mode": {
    "name": "ipython",
    "version": 2
   },
   "file_extension": ".py",
   "mimetype": "text/x-python",
   "name": "python",
   "nbconvert_exporter": "python",
   "pygments_lexer": "ipython2",
   "version": "2.7.6"
  }
 },
 "nbformat": 4,
 "nbformat_minor": 5
}
